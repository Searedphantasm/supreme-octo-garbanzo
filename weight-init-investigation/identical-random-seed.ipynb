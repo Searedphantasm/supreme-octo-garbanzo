{
 "cells": [
  {
   "cell_type": "code",
   "id": "initial_id",
   "metadata": {
    "collapsed": true,
    "ExecuteTime": {
     "end_time": "2024-09-02T06:24:30.564484Z",
     "start_time": "2024-09-02T06:24:30.561218Z"
    }
   },
   "source": [
    "import numpy as np\n",
    "import torch\n",
    "import torch.nn as nn\n",
    "import copy\n",
    "\n",
    "\n",
    "import matplotlib.pyplot as plt\n",
    "import matplotlib_inline\n",
    "matplotlib_inline.backend_inline.set_matplotlib_formats(\"svg\")"
   ],
   "outputs": [],
   "execution_count": 8
  },
  {
   "metadata": {
    "ExecuteTime": {
     "end_time": "2024-09-02T06:24:30.586920Z",
     "start_time": "2024-09-02T06:24:30.584397Z"
    }
   },
   "cell_type": "code",
   "source": [
    "# Create model\n",
    "net = nn.Sequential(\n",
    "    nn.Linear(2,8),\n",
    "    nn.Linear(8,1),\n",
    "    nn.Linear(1,1),\n",
    ")"
   ],
   "id": "abd06a33bf800f93",
   "outputs": [],
   "execution_count": 9
  },
  {
   "metadata": {},
   "cell_type": "markdown",
   "source": "## Create four networks",
   "id": "dcfadcf3c0950caa"
  },
  {
   "metadata": {
    "ExecuteTime": {
     "end_time": "2024-09-02T06:24:30.602891Z",
     "start_time": "2024-09-02T06:24:30.598928Z"
    }
   },
   "cell_type": "code",
   "source": [
    "### No random seed\n",
    "\n",
    "# create a \"template\" network\n",
    "net_noseed = copy.deepcopy(net)\n",
    "\n",
    "# update the weights\n",
    "for p in net_noseed.named_parameters():\n",
    "    if \"weight\" in p[0]:\n",
    "        nn.init.xavier_normal_(p[1].data)"
   ],
   "id": "56be560e369421fb",
   "outputs": [],
   "execution_count": 10
  },
  {
   "metadata": {
    "ExecuteTime": {
     "end_time": "2024-09-02T06:24:30.612124Z",
     "start_time": "2024-09-02T06:24:30.608599Z"
    }
   },
   "cell_type": "code",
   "source": [
    "### Random seed 1a\n",
    "\n",
    "# create a \"template\" network\n",
    "net_rs1a = copy.deepcopy(net)\n",
    "\n",
    "# set the seed to 1\n",
    "torch.manual_seed(1)\n",
    "\n",
    "for p in net_rs1a.named_parameters():\n",
    "    if \"weight\" in p[0]:\n",
    "        nn.init.xavier_normal_(p[1].data)"
   ],
   "id": "ff2fb94292842b7b",
   "outputs": [],
   "execution_count": 11
  },
  {
   "metadata": {
    "ExecuteTime": {
     "end_time": "2024-09-02T06:24:30.620975Z",
     "start_time": "2024-09-02T06:24:30.617299Z"
    }
   },
   "cell_type": "code",
   "source": [
    "### random seed 2\n",
    "\n",
    "# create a \"template\" network\n",
    "net_rs2 = copy.deepcopy(net)\n",
    "\n",
    "# set the seed to 2\n",
    "torch.manual_seed(2)\n",
    "\n",
    "for p in net_rs2.named_parameters():\n",
    "    if \"weight\" in p[0]:\n",
    "        nn.init.xavier_normal_(p[1].data)"
   ],
   "id": "c3d518e6fc97fd2d",
   "outputs": [],
   "execution_count": 12
  },
  {
   "metadata": {
    "ExecuteTime": {
     "end_time": "2024-09-02T06:24:30.629437Z",
     "start_time": "2024-09-02T06:24:30.626046Z"
    }
   },
   "cell_type": "code",
   "source": [
    "### Random seed 1b\n",
    "\n",
    "# create a \"template\" network\n",
    "net_rs1b = copy.deepcopy(net)\n",
    "\n",
    "# set the seed to 1\n",
    "torch.manual_seed(1)\n",
    "\n",
    "for p in net_rs1b.named_parameters():\n",
    "    if \"weight\" in p[0]:\n",
    "        nn.init.xavier_normal_(p[1].data)"
   ],
   "id": "c9e59ddc93e12ff1",
   "outputs": [],
   "execution_count": 13
  },
  {
   "metadata": {},
   "cell_type": "markdown",
   "source": "### Extracting all weights from all networks",
   "id": "50fbc64b543402f"
  },
  {
   "metadata": {
    "ExecuteTime": {
     "end_time": "2024-09-02T06:26:33.475609Z",
     "start_time": "2024-09-02T06:26:33.470133Z"
    }
   },
   "cell_type": "code",
   "source": [
    "# init empty arrays\n",
    "w_ns = np.array([])\n",
    "w_1a = np.array([])\n",
    "w_2 = np.array([])\n",
    "w_1b = np.array([])\n",
    "\n",
    "# loop over layers in the models\n",
    "for i in range(3):\n",
    "    \n",
    "    # extract the vectorized weights matrices (view is same as .flatten() in pytorch)\n",
    "    w_ns = np.append(w_ns,net_noseed[i].weight.view(-1).detach().numpy())\n",
    "    w_1a = np.append(w_1a,net_rs1a[i].weight.view(-1).detach().numpy())\n",
    "    w_2 = np.append(w_2,net_rs2[i].weight.view(-1).detach().numpy())\n",
    "    w_1b = np.append(w_1b,net_rs1b[i].weight.view(-1).detach().numpy())\n",
    "    \n",
    "w_ns"
   ],
   "id": "7e0119430e509c75",
   "outputs": [
    {
     "data": {
      "text/plain": [
       "array([ 0.00462545,  0.4399282 ,  0.39322874, -0.64863259, -0.52780843,\n",
       "        0.18334524,  0.18266469,  0.11532091, -0.43928766,  0.59318143,\n",
       "        0.38224319, -0.12545414,  0.31305689, -0.65147078,  0.71953773,\n",
       "        0.04193521, -0.24074629,  0.30307645, -0.18947838,  1.1997596 ,\n",
       "        0.00376317,  0.59964669,  0.44793981,  0.08903494, -0.75253475])"
      ]
     },
     "execution_count": 16,
     "metadata": {},
     "output_type": "execute_result"
    }
   ],
   "execution_count": 16
  },
  {
   "metadata": {
    "ExecuteTime": {
     "end_time": "2024-09-02T06:28:52.636388Z",
     "start_time": "2024-09-02T06:28:52.576489Z"
    }
   },
   "cell_type": "code",
   "source": [
    "# plotting \n",
    "fig = plt.figure(figsize=(15,5))\n",
    "\n",
    "plt.plot(w_ns,'ro',markersize=12,label=\"no seed\")\n",
    "plt.plot(w_1a,'ks',markersize=12,label=\"rs1a\")\n",
    "plt.plot(w_2,'m^',markersize=12,label=\"rs2\")\n",
    "plt.plot(w_1b,'g+',markersize=15,label=\"rs1b\", markeredgewidth=3)\n",
    "plt.legend()\n",
    "plt.xlabel(\"Vectorized weight index\")\n",
    "plt.xlabel(\"Weight value\")\n",
    "\n",
    "plt.show()\n"
   ],
   "id": "a2c6ba94801e5cf3",
   "outputs": [
    {
     "data": {
      "text/plain": [
       "<Figure size 1500x500 with 1 Axes>"
      ],
      "image/svg+xml": "<?xml version=\"1.0\" encoding=\"utf-8\" standalone=\"no\"?>\n<!DOCTYPE svg PUBLIC \"-//W3C//DTD SVG 1.1//EN\"\n  \"http://www.w3.org/Graphics/SVG/1.1/DTD/svg11.dtd\">\n<svg xmlns:xlink=\"http://www.w3.org/1999/xlink\" width=\"889.066903pt\" height=\"321.95625pt\" viewBox=\"0 0 889.066903 321.95625\" xmlns=\"http://www.w3.org/2000/svg\" version=\"1.1\">\n <metadata>\n  <rdf:RDF xmlns:dc=\"http://purl.org/dc/elements/1.1/\" xmlns:cc=\"http://creativecommons.org/ns#\" xmlns:rdf=\"http://www.w3.org/1999/02/22-rdf-syntax-ns#\">\n   <cc:Work>\n    <dc:type rdf:resource=\"http://purl.org/dc/dcmitype/StillImage\"/>\n    <dc:date>2024-09-01T23:28:52.615487</dc:date>\n    <dc:format>image/svg+xml</dc:format>\n    <dc:creator>\n     <cc:Agent>\n      <dc:title>Matplotlib v3.9.1, https://matplotlib.org/</dc:title>\n     </cc:Agent>\n    </dc:creator>\n   </cc:Work>\n  </rdf:RDF>\n </metadata>\n <defs>\n  <style type=\"text/css\">*{stroke-linejoin: round; stroke-linecap: butt}</style>\n </defs>\n <g id=\"figure_1\">\n  <g id=\"patch_1\">\n   <path d=\"M 0 321.95625 \nL 889.066903 321.95625 \nL 889.066903 0 \nL 0 0 \nz\n\" style=\"fill: #ffffff\"/>\n  </g>\n  <g id=\"axes_1\">\n   <g id=\"patch_2\">\n    <path d=\"M 44.845313 284.4 \nL 881.845312 284.4 \nL 881.845312 7.2 \nL 44.845313 7.2 \nz\n\" style=\"fill: #ffffff\"/>\n   </g>\n   <g id=\"matplotlib.axis_1\">\n    <g id=\"xtick_1\">\n     <g id=\"line2d_1\">\n      <defs>\n       <path id=\"m2b0b456084\" d=\"M 0 0 \nL 0 3.5 \n\" style=\"stroke: #000000; stroke-width: 0.8\"/>\n      </defs>\n      <g>\n       <use xlink:href=\"#m2b0b456084\" x=\"82.890767\" y=\"284.4\" style=\"stroke: #000000; stroke-width: 0.8\"/>\n      </g>\n     </g>\n     <g id=\"text_1\">\n      <!-- 0 -->\n      <g transform=\"translate(79.709517 298.998438) scale(0.1 -0.1)\">\n       <defs>\n        <path id=\"DejaVuSans-30\" d=\"M 2034 4250 \nQ 1547 4250 1301 3770 \nQ 1056 3291 1056 2328 \nQ 1056 1369 1301 889 \nQ 1547 409 2034 409 \nQ 2525 409 2770 889 \nQ 3016 1369 3016 2328 \nQ 3016 3291 2770 3770 \nQ 2525 4250 2034 4250 \nz\nM 2034 4750 \nQ 2819 4750 3233 4129 \nQ 3647 3509 3647 2328 \nQ 3647 1150 3233 529 \nQ 2819 -91 2034 -91 \nQ 1250 -91 836 529 \nQ 422 1150 422 2328 \nQ 422 3509 836 4129 \nQ 1250 4750 2034 4750 \nz\n\" transform=\"scale(0.015625)\"/>\n       </defs>\n       <use xlink:href=\"#DejaVuSans-30\"/>\n      </g>\n     </g>\n    </g>\n    <g id=\"xtick_2\">\n     <g id=\"line2d_2\">\n      <g>\n       <use xlink:href=\"#m2b0b456084\" x=\"241.413494\" y=\"284.4\" style=\"stroke: #000000; stroke-width: 0.8\"/>\n      </g>\n     </g>\n     <g id=\"text_2\">\n      <!-- 5 -->\n      <g transform=\"translate(238.232244 298.998438) scale(0.1 -0.1)\">\n       <defs>\n        <path id=\"DejaVuSans-35\" d=\"M 691 4666 \nL 3169 4666 \nL 3169 4134 \nL 1269 4134 \nL 1269 2991 \nQ 1406 3038 1543 3061 \nQ 1681 3084 1819 3084 \nQ 2600 3084 3056 2656 \nQ 3513 2228 3513 1497 \nQ 3513 744 3044 326 \nQ 2575 -91 1722 -91 \nQ 1428 -91 1123 -41 \nQ 819 9 494 109 \nL 494 744 \nQ 775 591 1075 516 \nQ 1375 441 1709 441 \nQ 2250 441 2565 725 \nQ 2881 1009 2881 1497 \nQ 2881 1984 2565 2268 \nQ 2250 2553 1709 2553 \nQ 1456 2553 1204 2497 \nQ 953 2441 691 2322 \nL 691 4666 \nz\n\" transform=\"scale(0.015625)\"/>\n       </defs>\n       <use xlink:href=\"#DejaVuSans-35\"/>\n      </g>\n     </g>\n    </g>\n    <g id=\"xtick_3\">\n     <g id=\"line2d_3\">\n      <g>\n       <use xlink:href=\"#m2b0b456084\" x=\"399.936222\" y=\"284.4\" style=\"stroke: #000000; stroke-width: 0.8\"/>\n      </g>\n     </g>\n     <g id=\"text_3\">\n      <!-- 10 -->\n      <g transform=\"translate(393.573722 298.998438) scale(0.1 -0.1)\">\n       <defs>\n        <path id=\"DejaVuSans-31\" d=\"M 794 531 \nL 1825 531 \nL 1825 4091 \nL 703 3866 \nL 703 4441 \nL 1819 4666 \nL 2450 4666 \nL 2450 531 \nL 3481 531 \nL 3481 0 \nL 794 0 \nL 794 531 \nz\n\" transform=\"scale(0.015625)\"/>\n       </defs>\n       <use xlink:href=\"#DejaVuSans-31\"/>\n       <use xlink:href=\"#DejaVuSans-30\" x=\"63.623047\"/>\n      </g>\n     </g>\n    </g>\n    <g id=\"xtick_4\">\n     <g id=\"line2d_4\">\n      <g>\n       <use xlink:href=\"#m2b0b456084\" x=\"558.458949\" y=\"284.4\" style=\"stroke: #000000; stroke-width: 0.8\"/>\n      </g>\n     </g>\n     <g id=\"text_4\">\n      <!-- 15 -->\n      <g transform=\"translate(552.096449 298.998438) scale(0.1 -0.1)\">\n       <use xlink:href=\"#DejaVuSans-31\"/>\n       <use xlink:href=\"#DejaVuSans-35\" x=\"63.623047\"/>\n      </g>\n     </g>\n    </g>\n    <g id=\"xtick_5\">\n     <g id=\"line2d_5\">\n      <g>\n       <use xlink:href=\"#m2b0b456084\" x=\"716.981676\" y=\"284.4\" style=\"stroke: #000000; stroke-width: 0.8\"/>\n      </g>\n     </g>\n     <g id=\"text_5\">\n      <!-- 20 -->\n      <g transform=\"translate(710.619176 298.998438) scale(0.1 -0.1)\">\n       <defs>\n        <path id=\"DejaVuSans-32\" d=\"M 1228 531 \nL 3431 531 \nL 3431 0 \nL 469 0 \nL 469 531 \nQ 828 903 1448 1529 \nQ 2069 2156 2228 2338 \nQ 2531 2678 2651 2914 \nQ 2772 3150 2772 3378 \nQ 2772 3750 2511 3984 \nQ 2250 4219 1831 4219 \nQ 1534 4219 1204 4116 \nQ 875 4013 500 3803 \nL 500 4441 \nQ 881 4594 1212 4672 \nQ 1544 4750 1819 4750 \nQ 2544 4750 2975 4387 \nQ 3406 4025 3406 3419 \nQ 3406 3131 3298 2873 \nQ 3191 2616 2906 2266 \nQ 2828 2175 2409 1742 \nQ 1991 1309 1228 531 \nz\n\" transform=\"scale(0.015625)\"/>\n       </defs>\n       <use xlink:href=\"#DejaVuSans-32\"/>\n       <use xlink:href=\"#DejaVuSans-30\" x=\"63.623047\"/>\n      </g>\n     </g>\n    </g>\n    <g id=\"xtick_6\">\n     <g id=\"line2d_6\">\n      <g>\n       <use xlink:href=\"#m2b0b456084\" x=\"875.504403\" y=\"284.4\" style=\"stroke: #000000; stroke-width: 0.8\"/>\n      </g>\n     </g>\n     <g id=\"text_6\">\n      <!-- 25 -->\n      <g transform=\"translate(869.141903 298.998438) scale(0.1 -0.1)\">\n       <use xlink:href=\"#DejaVuSans-32\"/>\n       <use xlink:href=\"#DejaVuSans-35\" x=\"63.623047\"/>\n      </g>\n     </g>\n    </g>\n    <g id=\"text_7\">\n     <!-- Weight value -->\n     <g transform=\"translate(430.679688 312.676562) scale(0.1 -0.1)\">\n      <defs>\n       <path id=\"DejaVuSans-57\" d=\"M 213 4666 \nL 850 4666 \nL 1831 722 \nL 2809 4666 \nL 3519 4666 \nL 4500 722 \nL 5478 4666 \nL 6119 4666 \nL 4947 0 \nL 4153 0 \nL 3169 4050 \nL 2175 0 \nL 1381 0 \nL 213 4666 \nz\n\" transform=\"scale(0.015625)\"/>\n       <path id=\"DejaVuSans-65\" d=\"M 3597 1894 \nL 3597 1613 \nL 953 1613 \nQ 991 1019 1311 708 \nQ 1631 397 2203 397 \nQ 2534 397 2845 478 \nQ 3156 559 3463 722 \nL 3463 178 \nQ 3153 47 2828 -22 \nQ 2503 -91 2169 -91 \nQ 1331 -91 842 396 \nQ 353 884 353 1716 \nQ 353 2575 817 3079 \nQ 1281 3584 2069 3584 \nQ 2775 3584 3186 3129 \nQ 3597 2675 3597 1894 \nz\nM 3022 2063 \nQ 3016 2534 2758 2815 \nQ 2500 3097 2075 3097 \nQ 1594 3097 1305 2825 \nQ 1016 2553 972 2059 \nL 3022 2063 \nz\n\" transform=\"scale(0.015625)\"/>\n       <path id=\"DejaVuSans-69\" d=\"M 603 3500 \nL 1178 3500 \nL 1178 0 \nL 603 0 \nL 603 3500 \nz\nM 603 4863 \nL 1178 4863 \nL 1178 4134 \nL 603 4134 \nL 603 4863 \nz\n\" transform=\"scale(0.015625)\"/>\n       <path id=\"DejaVuSans-67\" d=\"M 2906 1791 \nQ 2906 2416 2648 2759 \nQ 2391 3103 1925 3103 \nQ 1463 3103 1205 2759 \nQ 947 2416 947 1791 \nQ 947 1169 1205 825 \nQ 1463 481 1925 481 \nQ 2391 481 2648 825 \nQ 2906 1169 2906 1791 \nz\nM 3481 434 \nQ 3481 -459 3084 -895 \nQ 2688 -1331 1869 -1331 \nQ 1566 -1331 1297 -1286 \nQ 1028 -1241 775 -1147 \nL 775 -588 \nQ 1028 -725 1275 -790 \nQ 1522 -856 1778 -856 \nQ 2344 -856 2625 -561 \nQ 2906 -266 2906 331 \nL 2906 616 \nQ 2728 306 2450 153 \nQ 2172 0 1784 0 \nQ 1141 0 747 490 \nQ 353 981 353 1791 \nQ 353 2603 747 3093 \nQ 1141 3584 1784 3584 \nQ 2172 3584 2450 3431 \nQ 2728 3278 2906 2969 \nL 2906 3500 \nL 3481 3500 \nL 3481 434 \nz\n\" transform=\"scale(0.015625)\"/>\n       <path id=\"DejaVuSans-68\" d=\"M 3513 2113 \nL 3513 0 \nL 2938 0 \nL 2938 2094 \nQ 2938 2591 2744 2837 \nQ 2550 3084 2163 3084 \nQ 1697 3084 1428 2787 \nQ 1159 2491 1159 1978 \nL 1159 0 \nL 581 0 \nL 581 4863 \nL 1159 4863 \nL 1159 2956 \nQ 1366 3272 1645 3428 \nQ 1925 3584 2291 3584 \nQ 2894 3584 3203 3211 \nQ 3513 2838 3513 2113 \nz\n\" transform=\"scale(0.015625)\"/>\n       <path id=\"DejaVuSans-74\" d=\"M 1172 4494 \nL 1172 3500 \nL 2356 3500 \nL 2356 3053 \nL 1172 3053 \nL 1172 1153 \nQ 1172 725 1289 603 \nQ 1406 481 1766 481 \nL 2356 481 \nL 2356 0 \nL 1766 0 \nQ 1100 0 847 248 \nQ 594 497 594 1153 \nL 594 3053 \nL 172 3053 \nL 172 3500 \nL 594 3500 \nL 594 4494 \nL 1172 4494 \nz\n\" transform=\"scale(0.015625)\"/>\n       <path id=\"DejaVuSans-20\" transform=\"scale(0.015625)\"/>\n       <path id=\"DejaVuSans-76\" d=\"M 191 3500 \nL 800 3500 \nL 1894 563 \nL 2988 3500 \nL 3597 3500 \nL 2284 0 \nL 1503 0 \nL 191 3500 \nz\n\" transform=\"scale(0.015625)\"/>\n       <path id=\"DejaVuSans-61\" d=\"M 2194 1759 \nQ 1497 1759 1228 1600 \nQ 959 1441 959 1056 \nQ 959 750 1161 570 \nQ 1363 391 1709 391 \nQ 2188 391 2477 730 \nQ 2766 1069 2766 1631 \nL 2766 1759 \nL 2194 1759 \nz\nM 3341 1997 \nL 3341 0 \nL 2766 0 \nL 2766 531 \nQ 2569 213 2275 61 \nQ 1981 -91 1556 -91 \nQ 1019 -91 701 211 \nQ 384 513 384 1019 \nQ 384 1609 779 1909 \nQ 1175 2209 1959 2209 \nL 2766 2209 \nL 2766 2266 \nQ 2766 2663 2505 2880 \nQ 2244 3097 1772 3097 \nQ 1472 3097 1187 3025 \nQ 903 2953 641 2809 \nL 641 3341 \nQ 956 3463 1253 3523 \nQ 1550 3584 1831 3584 \nQ 2591 3584 2966 3190 \nQ 3341 2797 3341 1997 \nz\n\" transform=\"scale(0.015625)\"/>\n       <path id=\"DejaVuSans-6c\" d=\"M 603 4863 \nL 1178 4863 \nL 1178 0 \nL 603 0 \nL 603 4863 \nz\n\" transform=\"scale(0.015625)\"/>\n       <path id=\"DejaVuSans-75\" d=\"M 544 1381 \nL 544 3500 \nL 1119 3500 \nL 1119 1403 \nQ 1119 906 1312 657 \nQ 1506 409 1894 409 \nQ 2359 409 2629 706 \nQ 2900 1003 2900 1516 \nL 2900 3500 \nL 3475 3500 \nL 3475 0 \nL 2900 0 \nL 2900 538 \nQ 2691 219 2414 64 \nQ 2138 -91 1772 -91 \nQ 1169 -91 856 284 \nQ 544 659 544 1381 \nz\nM 1991 3584 \nL 1991 3584 \nz\n\" transform=\"scale(0.015625)\"/>\n      </defs>\n      <use xlink:href=\"#DejaVuSans-57\"/>\n      <use xlink:href=\"#DejaVuSans-65\" x=\"93.001953\"/>\n      <use xlink:href=\"#DejaVuSans-69\" x=\"154.525391\"/>\n      <use xlink:href=\"#DejaVuSans-67\" x=\"182.308594\"/>\n      <use xlink:href=\"#DejaVuSans-68\" x=\"245.785156\"/>\n      <use xlink:href=\"#DejaVuSans-74\" x=\"309.164062\"/>\n      <use xlink:href=\"#DejaVuSans-20\" x=\"348.373047\"/>\n      <use xlink:href=\"#DejaVuSans-76\" x=\"380.160156\"/>\n      <use xlink:href=\"#DejaVuSans-61\" x=\"439.339844\"/>\n      <use xlink:href=\"#DejaVuSans-6c\" x=\"500.619141\"/>\n      <use xlink:href=\"#DejaVuSans-75\" x=\"528.402344\"/>\n      <use xlink:href=\"#DejaVuSans-65\" x=\"591.78125\"/>\n     </g>\n    </g>\n   </g>\n   <g id=\"matplotlib.axis_2\">\n    <g id=\"ytick_1\">\n     <g id=\"line2d_7\">\n      <defs>\n       <path id=\"mc0e80d9130\" d=\"M 0 0 \nL -3.5 0 \n\" style=\"stroke: #000000; stroke-width: 0.8\"/>\n      </defs>\n      <g>\n       <use xlink:href=\"#mc0e80d9130\" x=\"44.845313\" y=\"271.472818\" style=\"stroke: #000000; stroke-width: 0.8\"/>\n      </g>\n     </g>\n     <g id=\"text_8\">\n      <!-- −0.75 -->\n      <g transform=\"translate(7.2 275.272036) scale(0.1 -0.1)\">\n       <defs>\n        <path id=\"DejaVuSans-2212\" d=\"M 678 2272 \nL 4684 2272 \nL 4684 1741 \nL 678 1741 \nL 678 2272 \nz\n\" transform=\"scale(0.015625)\"/>\n        <path id=\"DejaVuSans-2e\" d=\"M 684 794 \nL 1344 794 \nL 1344 0 \nL 684 0 \nL 684 794 \nz\n\" transform=\"scale(0.015625)\"/>\n        <path id=\"DejaVuSans-37\" d=\"M 525 4666 \nL 3525 4666 \nL 3525 4397 \nL 1831 0 \nL 1172 0 \nL 2766 4134 \nL 525 4134 \nL 525 4666 \nz\n\" transform=\"scale(0.015625)\"/>\n       </defs>\n       <use xlink:href=\"#DejaVuSans-2212\"/>\n       <use xlink:href=\"#DejaVuSans-30\" x=\"83.789062\"/>\n       <use xlink:href=\"#DejaVuSans-2e\" x=\"147.412109\"/>\n       <use xlink:href=\"#DejaVuSans-37\" x=\"179.199219\"/>\n       <use xlink:href=\"#DejaVuSans-35\" x=\"242.822266\"/>\n      </g>\n     </g>\n    </g>\n    <g id=\"ytick_2\">\n     <g id=\"line2d_8\">\n      <g>\n       <use xlink:href=\"#mc0e80d9130\" x=\"44.845313\" y=\"239.203094\" style=\"stroke: #000000; stroke-width: 0.8\"/>\n      </g>\n     </g>\n     <g id=\"text_9\">\n      <!-- −0.50 -->\n      <g transform=\"translate(7.2 243.002312) scale(0.1 -0.1)\">\n       <use xlink:href=\"#DejaVuSans-2212\"/>\n       <use xlink:href=\"#DejaVuSans-30\" x=\"83.789062\"/>\n       <use xlink:href=\"#DejaVuSans-2e\" x=\"147.412109\"/>\n       <use xlink:href=\"#DejaVuSans-35\" x=\"179.199219\"/>\n       <use xlink:href=\"#DejaVuSans-30\" x=\"242.822266\"/>\n      </g>\n     </g>\n    </g>\n    <g id=\"ytick_3\">\n     <g id=\"line2d_9\">\n      <g>\n       <use xlink:href=\"#mc0e80d9130\" x=\"44.845313\" y=\"206.933369\" style=\"stroke: #000000; stroke-width: 0.8\"/>\n      </g>\n     </g>\n     <g id=\"text_10\">\n      <!-- −0.25 -->\n      <g transform=\"translate(7.2 210.732588) scale(0.1 -0.1)\">\n       <use xlink:href=\"#DejaVuSans-2212\"/>\n       <use xlink:href=\"#DejaVuSans-30\" x=\"83.789062\"/>\n       <use xlink:href=\"#DejaVuSans-2e\" x=\"147.412109\"/>\n       <use xlink:href=\"#DejaVuSans-32\" x=\"179.199219\"/>\n       <use xlink:href=\"#DejaVuSans-35\" x=\"242.822266\"/>\n      </g>\n     </g>\n    </g>\n    <g id=\"ytick_4\">\n     <g id=\"line2d_10\">\n      <g>\n       <use xlink:href=\"#mc0e80d9130\" x=\"44.845313\" y=\"174.663645\" style=\"stroke: #000000; stroke-width: 0.8\"/>\n      </g>\n     </g>\n     <g id=\"text_11\">\n      <!-- 0.00 -->\n      <g transform=\"translate(15.579688 178.462864) scale(0.1 -0.1)\">\n       <use xlink:href=\"#DejaVuSans-30\"/>\n       <use xlink:href=\"#DejaVuSans-2e\" x=\"63.623047\"/>\n       <use xlink:href=\"#DejaVuSans-30\" x=\"95.410156\"/>\n       <use xlink:href=\"#DejaVuSans-30\" x=\"159.033203\"/>\n      </g>\n     </g>\n    </g>\n    <g id=\"ytick_5\">\n     <g id=\"line2d_11\">\n      <g>\n       <use xlink:href=\"#mc0e80d9130\" x=\"44.845313\" y=\"142.393921\" style=\"stroke: #000000; stroke-width: 0.8\"/>\n      </g>\n     </g>\n     <g id=\"text_12\">\n      <!-- 0.25 -->\n      <g transform=\"translate(15.579688 146.19314) scale(0.1 -0.1)\">\n       <use xlink:href=\"#DejaVuSans-30\"/>\n       <use xlink:href=\"#DejaVuSans-2e\" x=\"63.623047\"/>\n       <use xlink:href=\"#DejaVuSans-32\" x=\"95.410156\"/>\n       <use xlink:href=\"#DejaVuSans-35\" x=\"159.033203\"/>\n      </g>\n     </g>\n    </g>\n    <g id=\"ytick_6\">\n     <g id=\"line2d_12\">\n      <g>\n       <use xlink:href=\"#mc0e80d9130\" x=\"44.845313\" y=\"110.124197\" style=\"stroke: #000000; stroke-width: 0.8\"/>\n      </g>\n     </g>\n     <g id=\"text_13\">\n      <!-- 0.50 -->\n      <g transform=\"translate(15.579688 113.923416) scale(0.1 -0.1)\">\n       <use xlink:href=\"#DejaVuSans-30\"/>\n       <use xlink:href=\"#DejaVuSans-2e\" x=\"63.623047\"/>\n       <use xlink:href=\"#DejaVuSans-35\" x=\"95.410156\"/>\n       <use xlink:href=\"#DejaVuSans-30\" x=\"159.033203\"/>\n      </g>\n     </g>\n    </g>\n    <g id=\"ytick_7\">\n     <g id=\"line2d_13\">\n      <g>\n       <use xlink:href=\"#mc0e80d9130\" x=\"44.845313\" y=\"77.854473\" style=\"stroke: #000000; stroke-width: 0.8\"/>\n      </g>\n     </g>\n     <g id=\"text_14\">\n      <!-- 0.75 -->\n      <g transform=\"translate(15.579688 81.653692) scale(0.1 -0.1)\">\n       <use xlink:href=\"#DejaVuSans-30\"/>\n       <use xlink:href=\"#DejaVuSans-2e\" x=\"63.623047\"/>\n       <use xlink:href=\"#DejaVuSans-37\" x=\"95.410156\"/>\n       <use xlink:href=\"#DejaVuSans-35\" x=\"159.033203\"/>\n      </g>\n     </g>\n    </g>\n    <g id=\"ytick_8\">\n     <g id=\"line2d_14\">\n      <g>\n       <use xlink:href=\"#mc0e80d9130\" x=\"44.845313\" y=\"45.584749\" style=\"stroke: #000000; stroke-width: 0.8\"/>\n      </g>\n     </g>\n     <g id=\"text_15\">\n      <!-- 1.00 -->\n      <g transform=\"translate(15.579688 49.383968) scale(0.1 -0.1)\">\n       <use xlink:href=\"#DejaVuSans-31\"/>\n       <use xlink:href=\"#DejaVuSans-2e\" x=\"63.623047\"/>\n       <use xlink:href=\"#DejaVuSans-30\" x=\"95.410156\"/>\n       <use xlink:href=\"#DejaVuSans-30\" x=\"159.033203\"/>\n      </g>\n     </g>\n    </g>\n    <g id=\"ytick_9\">\n     <g id=\"line2d_15\">\n      <g>\n       <use xlink:href=\"#mc0e80d9130\" x=\"44.845313\" y=\"13.315025\" style=\"stroke: #000000; stroke-width: 0.8\"/>\n      </g>\n     </g>\n     <g id=\"text_16\">\n      <!-- 1.25 -->\n      <g transform=\"translate(15.579688 17.114244) scale(0.1 -0.1)\">\n       <use xlink:href=\"#DejaVuSans-31\"/>\n       <use xlink:href=\"#DejaVuSans-2e\" x=\"63.623047\"/>\n       <use xlink:href=\"#DejaVuSans-32\" x=\"95.410156\"/>\n       <use xlink:href=\"#DejaVuSans-35\" x=\"159.033203\"/>\n      </g>\n     </g>\n    </g>\n   </g>\n   <g id=\"line2d_16\">\n    <defs>\n     <path id=\"m2ac63c13b2\" d=\"M 0 6 \nC 1.591219 6 3.117479 5.367802 4.242641 4.242641 \nC 5.367802 3.117479 6 1.591219 6 0 \nC 6 -1.591219 5.367802 -3.117479 4.242641 -4.242641 \nC 3.117479 -5.367802 1.591219 -6 0 -6 \nC -1.591219 -6 -3.117479 -5.367802 -4.242641 -4.242641 \nC -5.367802 -3.117479 -6 -1.591219 -6 0 \nC -6 1.591219 -5.367802 3.117479 -4.242641 4.242641 \nC -3.117479 5.367802 -1.591219 6 0 6 \nz\n\" style=\"stroke: #ff0000\"/>\n    </defs>\n    <g clip-path=\"url(#pafaeca675b)\">\n     <use xlink:href=\"#m2ac63c13b2\" x=\"82.890767\" y=\"174.066597\" style=\"fill: #ff0000; stroke: #ff0000\"/>\n     <use xlink:href=\"#m2ac63c13b2\" x=\"114.595313\" y=\"117.878198\" style=\"fill: #ff0000; stroke: #ff0000\"/>\n     <use xlink:href=\"#m2ac63c13b2\" x=\"146.299858\" y=\"123.906114\" style=\"fill: #ff0000; stroke: #ff0000\"/>\n     <use xlink:href=\"#m2ac63c13b2\" x=\"178.004403\" y=\"258.388424\" style=\"fill: #ff0000; stroke: #ff0000\"/>\n     <use xlink:href=\"#m2ac63c13b2\" x=\"209.708949\" y=\"242.792575\" style=\"fill: #ff0000; stroke: #ff0000\"/>\n     <use xlink:href=\"#m2ac63c13b2\" x=\"241.413494\" y=\"150.997644\" style=\"fill: #ff0000; stroke: #ff0000\"/>\n     <use xlink:href=\"#m2ac63c13b2\" x=\"273.11804\" y=\"151.085488\" style=\"fill: #ff0000; stroke: #ff0000\"/>\n     <use xlink:href=\"#m2ac63c13b2\" x=\"304.822585\" y=\"159.778149\" style=\"fill: #ff0000; stroke: #ff0000\"/>\n     <use xlink:href=\"#m2ac63c13b2\" x=\"336.527131\" y=\"231.366412\" style=\"fill: #ff0000; stroke: #ff0000\"/>\n     <use xlink:href=\"#m2ac63c13b2\" x=\"368.231676\" y=\"98.096441\" style=\"fill: #ff0000; stroke: #ff0000\"/>\n     <use xlink:href=\"#m2ac63c13b2\" x=\"399.936222\" y=\"125.324117\" style=\"fill: #ff0000; stroke: #ff0000\"/>\n     <use xlink:href=\"#m2ac63c13b2\" x=\"431.640767\" y=\"190.857128\" style=\"fill: #ff0000; stroke: #ff0000\"/>\n     <use xlink:href=\"#m2ac63c13b2\" x=\"463.345313\" y=\"134.254608\" style=\"fill: #ff0000; stroke: #ff0000\"/>\n     <use xlink:href=\"#m2ac63c13b2\" x=\"495.049858\" y=\"258.754775\" style=\"fill: #ff0000; stroke: #ff0000\"/>\n     <use xlink:href=\"#m2ac63c13b2\" x=\"526.754403\" y=\"81.786509\" style=\"fill: #ff0000; stroke: #ff0000\"/>\n     <use xlink:href=\"#m2ac63c13b2\" x=\"558.458949\" y=\"169.250695\" style=\"fill: #ff0000; stroke: #ff0000\"/>\n     <use xlink:href=\"#m2ac63c13b2\" x=\"590.163494\" y=\"205.738911\" style=\"fill: #ff0000; stroke: #ff0000\"/>\n     <use xlink:href=\"#m2ac63c13b2\" x=\"621.86804\" y=\"135.542872\" style=\"fill: #ff0000; stroke: #ff0000\"/>\n     <use xlink:href=\"#m2ac63c13b2\" x=\"653.572585\" y=\"199.121306\" style=\"fill: #ff0000; stroke: #ff0000\"/>\n     <use xlink:href=\"#m2ac63c13b2\" x=\"685.277131\" y=\"19.8\" style=\"fill: #ff0000; stroke: #ff0000\"/>\n     <use xlink:href=\"#m2ac63c13b2\" x=\"716.981676\" y=\"174.177899\" style=\"fill: #ff0000; stroke: #ff0000\"/>\n     <use xlink:href=\"#m2ac63c13b2\" x=\"748.686222\" y=\"97.261913\" style=\"fill: #ff0000; stroke: #ff0000\"/>\n     <use xlink:href=\"#m2ac63c13b2\" x=\"780.390767\" y=\"116.844069\" style=\"fill: #ff0000; stroke: #ff0000\"/>\n     <use xlink:href=\"#m2ac63c13b2\" x=\"812.095313\" y=\"163.171114\" style=\"fill: #ff0000; stroke: #ff0000\"/>\n     <use xlink:href=\"#m2ac63c13b2\" x=\"843.799858\" y=\"271.8\" style=\"fill: #ff0000; stroke: #ff0000\"/>\n    </g>\n   </g>\n   <g id=\"line2d_17\">\n    <defs>\n     <path id=\"m49d1b66027\" d=\"M -6 6 \nL 6 6 \nL 6 -6 \nL -6 -6 \nz\n\" style=\"stroke: #000000; stroke-linejoin: miter\"/>\n    </defs>\n    <g clip-path=\"url(#pafaeca675b)\">\n     <use xlink:href=\"#m49d1b66027\" x=\"82.890767\" y=\"262.729949\" style=\"stroke: #000000; stroke-linejoin: miter\"/>\n     <use xlink:href=\"#m49d1b66027\" x=\"114.595313\" y=\"217.971404\" style=\"stroke: #000000; stroke-linejoin: miter\"/>\n     <use xlink:href=\"#m49d1b66027\" x=\"146.299858\" y=\"212.41524\" style=\"stroke: #000000; stroke-linejoin: miter\"/>\n     <use xlink:href=\"#m49d1b66027\" x=\"178.004403\" y=\"267.572503\" style=\"stroke: #000000; stroke-linejoin: miter\"/>\n     <use xlink:href=\"#m49d1b66027\" x=\"209.708949\" y=\"180.44588\" style=\"stroke: #000000; stroke-linejoin: miter\"/>\n     <use xlink:href=\"#m49d1b66027\" x=\"241.413494\" y=\"209.829587\" style=\"stroke: #000000; stroke-linejoin: miter\"/>\n     <use xlink:href=\"#m49d1b66027\" x=\"273.11804\" y=\"231.22182\" style=\"stroke: #000000; stroke-linejoin: miter\"/>\n     <use xlink:href=\"#m49d1b66027\" x=\"304.822585\" y=\"267.550076\" style=\"stroke: #000000; stroke-linejoin: miter\"/>\n     <use xlink:href=\"#m49d1b66027\" x=\"336.527131\" y=\"215.77279\" style=\"stroke: #000000; stroke-linejoin: miter\"/>\n     <use xlink:href=\"#m49d1b66027\" x=\"368.231676\" y=\"157.13104\" style=\"stroke: #000000; stroke-linejoin: miter\"/>\n     <use xlink:href=\"#m49d1b66027\" x=\"399.936222\" y=\"219.534764\" style=\"stroke: #000000; stroke-linejoin: miter\"/>\n     <use xlink:href=\"#m49d1b66027\" x=\"431.640767\" y=\"189.17911\" style=\"stroke: #000000; stroke-linejoin: miter\"/>\n     <use xlink:href=\"#m49d1b66027\" x=\"463.345313\" y=\"187.494395\" style=\"stroke: #000000; stroke-linejoin: miter\"/>\n     <use xlink:href=\"#m49d1b66027\" x=\"495.049858\" y=\"77.273614\" style=\"stroke: #000000; stroke-linejoin: miter\"/>\n     <use xlink:href=\"#m49d1b66027\" x=\"526.754403\" y=\"161.477611\" style=\"stroke: #000000; stroke-linejoin: miter\"/>\n     <use xlink:href=\"#m49d1b66027\" x=\"558.458949\" y=\"147.668994\" style=\"stroke: #000000; stroke-linejoin: miter\"/>\n     <use xlink:href=\"#m49d1b66027\" x=\"590.163494\" y=\"237.191956\" style=\"stroke: #000000; stroke-linejoin: miter\"/>\n     <use xlink:href=\"#m49d1b66027\" x=\"621.86804\" y=\"208.924492\" style=\"stroke: #000000; stroke-linejoin: miter\"/>\n     <use xlink:href=\"#m49d1b66027\" x=\"653.572585\" y=\"228.958072\" style=\"stroke: #000000; stroke-linejoin: miter\"/>\n     <use xlink:href=\"#m49d1b66027\" x=\"685.277131\" y=\"178.208074\" style=\"stroke: #000000; stroke-linejoin: miter\"/>\n     <use xlink:href=\"#m49d1b66027\" x=\"716.981676\" y=\"186.560086\" style=\"stroke: #000000; stroke-linejoin: miter\"/>\n     <use xlink:href=\"#m49d1b66027\" x=\"748.686222\" y=\"233.421023\" style=\"stroke: #000000; stroke-linejoin: miter\"/>\n     <use xlink:href=\"#m49d1b66027\" x=\"780.390767\" y=\"148.960359\" style=\"stroke: #000000; stroke-linejoin: miter\"/>\n     <use xlink:href=\"#m49d1b66027\" x=\"812.095313\" y=\"158.39784\" style=\"stroke: #000000; stroke-linejoin: miter\"/>\n     <use xlink:href=\"#m49d1b66027\" x=\"843.799858\" y=\"229.03105\" style=\"stroke: #000000; stroke-linejoin: miter\"/>\n    </g>\n   </g>\n   <g id=\"line2d_18\">\n    <defs>\n     <path id=\"madfa1c3d6b\" d=\"M 0 -6 \nL -6 6 \nL 6 6 \nz\n\" style=\"stroke: #bf00bf; stroke-linejoin: miter\"/>\n    </defs>\n    <g clip-path=\"url(#pafaeca675b)\">\n     <use xlink:href=\"#madfa1c3d6b\" x=\"82.890767\" y=\"234.744763\" style=\"fill: #bf00bf; stroke: #bf00bf; stroke-linejoin: miter\"/>\n     <use xlink:href=\"#madfa1c3d6b\" x=\"114.595313\" y=\"121.751904\" style=\"fill: #bf00bf; stroke: #bf00bf; stroke-linejoin: miter\"/>\n     <use xlink:href=\"#madfa1c3d6b\" x=\"146.299858\" y=\"249.949125\" style=\"fill: #bf00bf; stroke: #bf00bf; stroke-linejoin: miter\"/>\n     <use xlink:href=\"#madfa1c3d6b\" x=\"178.004403\" y=\"238.72076\" style=\"fill: #bf00bf; stroke: #bf00bf; stroke-linejoin: miter\"/>\n     <use xlink:href=\"#madfa1c3d6b\" x=\"209.708949\" y=\"245.018632\" style=\"fill: #bf00bf; stroke: #bf00bf; stroke-linejoin: miter\"/>\n     <use xlink:href=\"#madfa1c3d6b\" x=\"241.413494\" y=\"107.263394\" style=\"fill: #bf00bf; stroke: #bf00bf; stroke-linejoin: miter\"/>\n     <use xlink:href=\"#madfa1c3d6b\" x=\"273.11804\" y=\"235.70249\" style=\"fill: #bf00bf; stroke: #bf00bf; stroke-linejoin: miter\"/>\n     <use xlink:href=\"#madfa1c3d6b\" x=\"304.822585\" y=\"181.523748\" style=\"fill: #bf00bf; stroke: #bf00bf; stroke-linejoin: miter\"/>\n     <use xlink:href=\"#madfa1c3d6b\" x=\"336.527131\" y=\"227.06946\" style=\"fill: #bf00bf; stroke: #bf00bf; stroke-linejoin: miter\"/>\n     <use xlink:href=\"#madfa1c3d6b\" x=\"368.231676\" y=\"154.735404\" style=\"fill: #bf00bf; stroke: #bf00bf; stroke-linejoin: miter\"/>\n     <use xlink:href=\"#madfa1c3d6b\" x=\"399.936222\" y=\"207.644371\" style=\"fill: #bf00bf; stroke: #bf00bf; stroke-linejoin: miter\"/>\n     <use xlink:href=\"#madfa1c3d6b\" x=\"431.640767\" y=\"188.235505\" style=\"fill: #bf00bf; stroke: #bf00bf; stroke-linejoin: miter\"/>\n     <use xlink:href=\"#madfa1c3d6b\" x=\"463.345313\" y=\"116.498791\" style=\"fill: #bf00bf; stroke: #bf00bf; stroke-linejoin: miter\"/>\n     <use xlink:href=\"#madfa1c3d6b\" x=\"495.049858\" y=\"218.124359\" style=\"fill: #bf00bf; stroke: #bf00bf; stroke-linejoin: miter\"/>\n     <use xlink:href=\"#madfa1c3d6b\" x=\"526.754403\" y=\"187.651912\" style=\"fill: #bf00bf; stroke: #bf00bf; stroke-linejoin: miter\"/>\n     <use xlink:href=\"#madfa1c3d6b\" x=\"558.458949\" y=\"199.640808\" style=\"fill: #bf00bf; stroke: #bf00bf; stroke-linejoin: miter\"/>\n     <use xlink:href=\"#madfa1c3d6b\" x=\"590.163494\" y=\"198.51048\" style=\"fill: #bf00bf; stroke: #bf00bf; stroke-linejoin: miter\"/>\n     <use xlink:href=\"#madfa1c3d6b\" x=\"621.86804\" y=\"238.108957\" style=\"fill: #bf00bf; stroke: #bf00bf; stroke-linejoin: miter\"/>\n     <use xlink:href=\"#madfa1c3d6b\" x=\"653.572585\" y=\"94.427922\" style=\"fill: #bf00bf; stroke: #bf00bf; stroke-linejoin: miter\"/>\n     <use xlink:href=\"#madfa1c3d6b\" x=\"685.277131\" y=\"129.171029\" style=\"fill: #bf00bf; stroke: #bf00bf; stroke-linejoin: miter\"/>\n     <use xlink:href=\"#madfa1c3d6b\" x=\"716.981676\" y=\"255.37784\" style=\"fill: #bf00bf; stroke: #bf00bf; stroke-linejoin: miter\"/>\n     <use xlink:href=\"#madfa1c3d6b\" x=\"748.686222\" y=\"250.194562\" style=\"fill: #bf00bf; stroke: #bf00bf; stroke-linejoin: miter\"/>\n     <use xlink:href=\"#madfa1c3d6b\" x=\"780.390767\" y=\"180.919158\" style=\"fill: #bf00bf; stroke: #bf00bf; stroke-linejoin: miter\"/>\n     <use xlink:href=\"#madfa1c3d6b\" x=\"812.095313\" y=\"232.455186\" style=\"fill: #bf00bf; stroke: #bf00bf; stroke-linejoin: miter\"/>\n     <use xlink:href=\"#madfa1c3d6b\" x=\"843.799858\" y=\"94.879343\" style=\"fill: #bf00bf; stroke: #bf00bf; stroke-linejoin: miter\"/>\n    </g>\n   </g>\n   <g id=\"line2d_19\">\n    <defs>\n     <path id=\"md6fed6b516\" d=\"M -7.5 0 \nL 7.5 0 \nM 0 7.5 \nL 0 -7.5 \n\" style=\"stroke: #008000; stroke-width: 3\"/>\n    </defs>\n    <g clip-path=\"url(#pafaeca675b)\">\n     <use xlink:href=\"#md6fed6b516\" x=\"82.890767\" y=\"262.729949\" style=\"fill: #008000; stroke: #008000; stroke-width: 3\"/>\n     <use xlink:href=\"#md6fed6b516\" x=\"114.595313\" y=\"217.971404\" style=\"fill: #008000; stroke: #008000; stroke-width: 3\"/>\n     <use xlink:href=\"#md6fed6b516\" x=\"146.299858\" y=\"212.41524\" style=\"fill: #008000; stroke: #008000; stroke-width: 3\"/>\n     <use xlink:href=\"#md6fed6b516\" x=\"178.004403\" y=\"267.572503\" style=\"fill: #008000; stroke: #008000; stroke-width: 3\"/>\n     <use xlink:href=\"#md6fed6b516\" x=\"209.708949\" y=\"180.44588\" style=\"fill: #008000; stroke: #008000; stroke-width: 3\"/>\n     <use xlink:href=\"#md6fed6b516\" x=\"241.413494\" y=\"209.829587\" style=\"fill: #008000; stroke: #008000; stroke-width: 3\"/>\n     <use xlink:href=\"#md6fed6b516\" x=\"273.11804\" y=\"231.22182\" style=\"fill: #008000; stroke: #008000; stroke-width: 3\"/>\n     <use xlink:href=\"#md6fed6b516\" x=\"304.822585\" y=\"267.550076\" style=\"fill: #008000; stroke: #008000; stroke-width: 3\"/>\n     <use xlink:href=\"#md6fed6b516\" x=\"336.527131\" y=\"215.77279\" style=\"fill: #008000; stroke: #008000; stroke-width: 3\"/>\n     <use xlink:href=\"#md6fed6b516\" x=\"368.231676\" y=\"157.13104\" style=\"fill: #008000; stroke: #008000; stroke-width: 3\"/>\n     <use xlink:href=\"#md6fed6b516\" x=\"399.936222\" y=\"219.534764\" style=\"fill: #008000; stroke: #008000; stroke-width: 3\"/>\n     <use xlink:href=\"#md6fed6b516\" x=\"431.640767\" y=\"189.17911\" style=\"fill: #008000; stroke: #008000; stroke-width: 3\"/>\n     <use xlink:href=\"#md6fed6b516\" x=\"463.345313\" y=\"187.494395\" style=\"fill: #008000; stroke: #008000; stroke-width: 3\"/>\n     <use xlink:href=\"#md6fed6b516\" x=\"495.049858\" y=\"77.273614\" style=\"fill: #008000; stroke: #008000; stroke-width: 3\"/>\n     <use xlink:href=\"#md6fed6b516\" x=\"526.754403\" y=\"161.477611\" style=\"fill: #008000; stroke: #008000; stroke-width: 3\"/>\n     <use xlink:href=\"#md6fed6b516\" x=\"558.458949\" y=\"147.668994\" style=\"fill: #008000; stroke: #008000; stroke-width: 3\"/>\n     <use xlink:href=\"#md6fed6b516\" x=\"590.163494\" y=\"237.191956\" style=\"fill: #008000; stroke: #008000; stroke-width: 3\"/>\n     <use xlink:href=\"#md6fed6b516\" x=\"621.86804\" y=\"208.924492\" style=\"fill: #008000; stroke: #008000; stroke-width: 3\"/>\n     <use xlink:href=\"#md6fed6b516\" x=\"653.572585\" y=\"228.958072\" style=\"fill: #008000; stroke: #008000; stroke-width: 3\"/>\n     <use xlink:href=\"#md6fed6b516\" x=\"685.277131\" y=\"178.208074\" style=\"fill: #008000; stroke: #008000; stroke-width: 3\"/>\n     <use xlink:href=\"#md6fed6b516\" x=\"716.981676\" y=\"186.560086\" style=\"fill: #008000; stroke: #008000; stroke-width: 3\"/>\n     <use xlink:href=\"#md6fed6b516\" x=\"748.686222\" y=\"233.421023\" style=\"fill: #008000; stroke: #008000; stroke-width: 3\"/>\n     <use xlink:href=\"#md6fed6b516\" x=\"780.390767\" y=\"148.960359\" style=\"fill: #008000; stroke: #008000; stroke-width: 3\"/>\n     <use xlink:href=\"#md6fed6b516\" x=\"812.095313\" y=\"158.39784\" style=\"fill: #008000; stroke: #008000; stroke-width: 3\"/>\n     <use xlink:href=\"#md6fed6b516\" x=\"843.799858\" y=\"229.03105\" style=\"fill: #008000; stroke: #008000; stroke-width: 3\"/>\n    </g>\n   </g>\n   <g id=\"patch_3\">\n    <path d=\"M 44.845313 284.4 \nL 44.845313 7.2 \n\" style=\"fill: none; stroke: #000000; stroke-width: 0.8; stroke-linejoin: miter; stroke-linecap: square\"/>\n   </g>\n   <g id=\"patch_4\">\n    <path d=\"M 881.845312 284.4 \nL 881.845312 7.2 \n\" style=\"fill: none; stroke: #000000; stroke-width: 0.8; stroke-linejoin: miter; stroke-linecap: square\"/>\n   </g>\n   <g id=\"patch_5\">\n    <path d=\"M 44.845313 284.4 \nL 881.845313 284.4 \n\" style=\"fill: none; stroke: #000000; stroke-width: 0.8; stroke-linejoin: miter; stroke-linecap: square\"/>\n   </g>\n   <g id=\"patch_6\">\n    <path d=\"M 44.845313 7.2 \nL 881.845313 7.2 \n\" style=\"fill: none; stroke: #000000; stroke-width: 0.8; stroke-linejoin: miter; stroke-linecap: square\"/>\n   </g>\n   <g id=\"legend_1\">\n    <g id=\"patch_7\">\n     <path d=\"M 803.346875 73.9125 \nL 874.845312 73.9125 \nQ 876.845312 73.9125 876.845312 71.9125 \nL 876.845312 14.2 \nQ 876.845312 12.2 874.845312 12.2 \nL 803.346875 12.2 \nQ 801.346875 12.2 801.346875 14.2 \nL 801.346875 71.9125 \nQ 801.346875 73.9125 803.346875 73.9125 \nz\n\" style=\"fill: #ffffff; opacity: 0.8; stroke: #cccccc; stroke-linejoin: miter\"/>\n    </g>\n    <g id=\"line2d_20\">\n     <g>\n      <use xlink:href=\"#m2ac63c13b2\" x=\"815.346875\" y=\"20.298437\" style=\"fill: #ff0000; stroke: #ff0000\"/>\n     </g>\n    </g>\n    <g id=\"text_17\">\n     <!-- no seed -->\n     <g transform=\"translate(833.346875 23.798437) scale(0.1 -0.1)\">\n      <defs>\n       <path id=\"DejaVuSans-6e\" d=\"M 3513 2113 \nL 3513 0 \nL 2938 0 \nL 2938 2094 \nQ 2938 2591 2744 2837 \nQ 2550 3084 2163 3084 \nQ 1697 3084 1428 2787 \nQ 1159 2491 1159 1978 \nL 1159 0 \nL 581 0 \nL 581 3500 \nL 1159 3500 \nL 1159 2956 \nQ 1366 3272 1645 3428 \nQ 1925 3584 2291 3584 \nQ 2894 3584 3203 3211 \nQ 3513 2838 3513 2113 \nz\n\" transform=\"scale(0.015625)\"/>\n       <path id=\"DejaVuSans-6f\" d=\"M 1959 3097 \nQ 1497 3097 1228 2736 \nQ 959 2375 959 1747 \nQ 959 1119 1226 758 \nQ 1494 397 1959 397 \nQ 2419 397 2687 759 \nQ 2956 1122 2956 1747 \nQ 2956 2369 2687 2733 \nQ 2419 3097 1959 3097 \nz\nM 1959 3584 \nQ 2709 3584 3137 3096 \nQ 3566 2609 3566 1747 \nQ 3566 888 3137 398 \nQ 2709 -91 1959 -91 \nQ 1206 -91 779 398 \nQ 353 888 353 1747 \nQ 353 2609 779 3096 \nQ 1206 3584 1959 3584 \nz\n\" transform=\"scale(0.015625)\"/>\n       <path id=\"DejaVuSans-73\" d=\"M 2834 3397 \nL 2834 2853 \nQ 2591 2978 2328 3040 \nQ 2066 3103 1784 3103 \nQ 1356 3103 1142 2972 \nQ 928 2841 928 2578 \nQ 928 2378 1081 2264 \nQ 1234 2150 1697 2047 \nL 1894 2003 \nQ 2506 1872 2764 1633 \nQ 3022 1394 3022 966 \nQ 3022 478 2636 193 \nQ 2250 -91 1575 -91 \nQ 1294 -91 989 -36 \nQ 684 19 347 128 \nL 347 722 \nQ 666 556 975 473 \nQ 1284 391 1588 391 \nQ 1994 391 2212 530 \nQ 2431 669 2431 922 \nQ 2431 1156 2273 1281 \nQ 2116 1406 1581 1522 \nL 1381 1569 \nQ 847 1681 609 1914 \nQ 372 2147 372 2553 \nQ 372 3047 722 3315 \nQ 1072 3584 1716 3584 \nQ 2034 3584 2315 3537 \nQ 2597 3491 2834 3397 \nz\n\" transform=\"scale(0.015625)\"/>\n       <path id=\"DejaVuSans-64\" d=\"M 2906 2969 \nL 2906 4863 \nL 3481 4863 \nL 3481 0 \nL 2906 0 \nL 2906 525 \nQ 2725 213 2448 61 \nQ 2172 -91 1784 -91 \nQ 1150 -91 751 415 \nQ 353 922 353 1747 \nQ 353 2572 751 3078 \nQ 1150 3584 1784 3584 \nQ 2172 3584 2448 3432 \nQ 2725 3281 2906 2969 \nz\nM 947 1747 \nQ 947 1113 1208 752 \nQ 1469 391 1925 391 \nQ 2381 391 2643 752 \nQ 2906 1113 2906 1747 \nQ 2906 2381 2643 2742 \nQ 2381 3103 1925 3103 \nQ 1469 3103 1208 2742 \nQ 947 2381 947 1747 \nz\n\" transform=\"scale(0.015625)\"/>\n      </defs>\n      <use xlink:href=\"#DejaVuSans-6e\"/>\n      <use xlink:href=\"#DejaVuSans-6f\" x=\"63.378906\"/>\n      <use xlink:href=\"#DejaVuSans-20\" x=\"124.560547\"/>\n      <use xlink:href=\"#DejaVuSans-73\" x=\"156.347656\"/>\n      <use xlink:href=\"#DejaVuSans-65\" x=\"208.447266\"/>\n      <use xlink:href=\"#DejaVuSans-65\" x=\"269.970703\"/>\n      <use xlink:href=\"#DejaVuSans-64\" x=\"331.494141\"/>\n     </g>\n    </g>\n    <g id=\"line2d_21\">\n     <g>\n      <use xlink:href=\"#m49d1b66027\" x=\"815.346875\" y=\"34.976562\" style=\"stroke: #000000; stroke-linejoin: miter\"/>\n     </g>\n    </g>\n    <g id=\"text_18\">\n     <!-- rs1a -->\n     <g transform=\"translate(833.346875 38.476562) scale(0.1 -0.1)\">\n      <defs>\n       <path id=\"DejaVuSans-72\" d=\"M 2631 2963 \nQ 2534 3019 2420 3045 \nQ 2306 3072 2169 3072 \nQ 1681 3072 1420 2755 \nQ 1159 2438 1159 1844 \nL 1159 0 \nL 581 0 \nL 581 3500 \nL 1159 3500 \nL 1159 2956 \nQ 1341 3275 1631 3429 \nQ 1922 3584 2338 3584 \nQ 2397 3584 2469 3576 \nQ 2541 3569 2628 3553 \nL 2631 2963 \nz\n\" transform=\"scale(0.015625)\"/>\n      </defs>\n      <use xlink:href=\"#DejaVuSans-72\"/>\n      <use xlink:href=\"#DejaVuSans-73\" x=\"41.113281\"/>\n      <use xlink:href=\"#DejaVuSans-31\" x=\"93.212891\"/>\n      <use xlink:href=\"#DejaVuSans-61\" x=\"156.835938\"/>\n     </g>\n    </g>\n    <g id=\"line2d_22\">\n     <g>\n      <use xlink:href=\"#madfa1c3d6b\" x=\"815.346875\" y=\"49.654687\" style=\"fill: #bf00bf; stroke: #bf00bf; stroke-linejoin: miter\"/>\n     </g>\n    </g>\n    <g id=\"text_19\">\n     <!-- rs2 -->\n     <g transform=\"translate(833.346875 53.154687) scale(0.1 -0.1)\">\n      <use xlink:href=\"#DejaVuSans-72\"/>\n      <use xlink:href=\"#DejaVuSans-73\" x=\"41.113281\"/>\n      <use xlink:href=\"#DejaVuSans-32\" x=\"93.212891\"/>\n     </g>\n    </g>\n    <g id=\"line2d_23\">\n     <g>\n      <use xlink:href=\"#md6fed6b516\" x=\"815.346875\" y=\"64.332812\" style=\"fill: #008000; stroke: #008000; stroke-width: 3\"/>\n     </g>\n    </g>\n    <g id=\"text_20\">\n     <!-- rs1b -->\n     <g transform=\"translate(833.346875 67.832812) scale(0.1 -0.1)\">\n      <defs>\n       <path id=\"DejaVuSans-62\" d=\"M 3116 1747 \nQ 3116 2381 2855 2742 \nQ 2594 3103 2138 3103 \nQ 1681 3103 1420 2742 \nQ 1159 2381 1159 1747 \nQ 1159 1113 1420 752 \nQ 1681 391 2138 391 \nQ 2594 391 2855 752 \nQ 3116 1113 3116 1747 \nz\nM 1159 2969 \nQ 1341 3281 1617 3432 \nQ 1894 3584 2278 3584 \nQ 2916 3584 3314 3078 \nQ 3713 2572 3713 1747 \nQ 3713 922 3314 415 \nQ 2916 -91 2278 -91 \nQ 1894 -91 1617 61 \nQ 1341 213 1159 525 \nL 1159 0 \nL 581 0 \nL 581 4863 \nL 1159 4863 \nL 1159 2969 \nz\n\" transform=\"scale(0.015625)\"/>\n      </defs>\n      <use xlink:href=\"#DejaVuSans-72\"/>\n      <use xlink:href=\"#DejaVuSans-73\" x=\"41.113281\"/>\n      <use xlink:href=\"#DejaVuSans-31\" x=\"93.212891\"/>\n      <use xlink:href=\"#DejaVuSans-62\" x=\"156.835938\"/>\n     </g>\n    </g>\n   </g>\n  </g>\n </g>\n <defs>\n  <clipPath id=\"pafaeca675b\">\n   <rect x=\"44.845313\" y=\"7.2\" width=\"837\" height=\"277.2\"/>\n  </clipPath>\n </defs>\n</svg>\n"
     },
     "metadata": {},
     "output_type": "display_data"
    }
   ],
   "execution_count": 17
  },
  {
   "metadata": {
    "ExecuteTime": {
     "end_time": "2024-09-02T06:34:27.132633Z",
     "start_time": "2024-09-02T06:34:27.129002Z"
    }
   },
   "cell_type": "code",
   "source": [
    "# the algebraic test\n",
    "\n",
    "print(\"1a-1b should be zeros:\")\n",
    "print(w_1a - w_1b)\n",
    "print(\"\\n\\n\")\n",
    "\n",
    "print(\"1a-2 should be non-zeros:\")\n",
    "print(w_1a - w_2)\n",
    "print(\"\\n\\n\")\n",
    "\n",
    "print(\"1a-ns should be non-zeros:\")\n",
    "print(w_1a - w_ns)\n",
    "print(\"\\n\\n\")\n"
   ],
   "id": "e8b91b737d45515f",
   "outputs": [
    {
     "name": "stdout",
     "output_type": "stream",
     "text": [
      "1a-1b should be zeros:\n",
      "[0. 0. 0. 0. 0. 0. 0. 0. 0. 0. 0. 0. 0. 0. 0. 0. 0. 0. 0. 0. 0. 0. 0. 0.\n",
      " 0.]\n",
      "\n",
      "\n",
      "\n",
      "1a-2 should be non-zeros:\n",
      "[-0.21680683 -0.74543169  0.29078251 -0.22352022  0.50025801 -0.79460078\n",
      "  0.03471264 -0.66646316  0.08751756 -0.01855947 -0.09211725 -0.0073103\n",
      " -0.55001713  1.09119886  0.20277754  0.40263602 -0.29967313  0.22609788\n",
      " -1.04223195 -0.37989978  0.53314489  0.12994796  0.2475912   0.57373706\n",
      " -1.03930008]\n",
      "\n",
      "\n",
      "\n",
      "1a-ns should be non-zeros:\n",
      "[-0.6868927  -0.77544206 -0.68569788 -0.0711509   0.4830123  -0.45578282\n",
      " -0.62083218 -0.83493065  0.1208069  -0.45735283 -0.72986871  0.01299994\n",
      " -0.41245927  1.40597081 -0.61738289  0.16719775 -0.24367303 -0.56850207\n",
      " -0.23115139 -1.227219   -0.09592727 -1.05485183 -0.24881132  0.0369795\n",
      "  0.3313396 ]\n",
      "\n",
      "\n",
      "\n"
     ]
    }
   ],
   "execution_count": 18
  }
 ],
 "metadata": {
  "kernelspec": {
   "display_name": "Python 3",
   "language": "python",
   "name": "python3"
  },
  "language_info": {
   "codemirror_mode": {
    "name": "ipython",
    "version": 2
   },
   "file_extension": ".py",
   "mimetype": "text/x-python",
   "name": "python",
   "nbconvert_exporter": "python",
   "pygments_lexer": "ipython2",
   "version": "2.7.6"
  }
 },
 "nbformat": 4,
 "nbformat_minor": 5
}
