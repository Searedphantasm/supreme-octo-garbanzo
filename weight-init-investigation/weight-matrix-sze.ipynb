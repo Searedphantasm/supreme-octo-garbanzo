{
 "cells": [
  {
   "cell_type": "code",
   "id": "initial_id",
   "metadata": {
    "collapsed": true,
    "ExecuteTime": {
     "end_time": "2024-09-01T06:14:19.501969Z",
     "start_time": "2024-09-01T06:14:18.507902Z"
    }
   },
   "source": [
    "import torch \n",
    "import torch.nn as nn"
   ],
   "outputs": [],
   "execution_count": 1
  },
  {
   "metadata": {
    "ExecuteTime": {
     "end_time": "2024-09-01T06:15:05.821641Z",
     "start_time": "2024-09-01T06:15:05.814730Z"
    }
   },
   "cell_type": "code",
   "source": [
    "# build a model\n",
    "aModel = nn.Sequential(\n",
    "    nn.Linear(10,14),\n",
    "    nn.Linear(14,19),\n",
    "    nn.Linear(19,8)\n",
    ")\n",
    "\n",
    "aModel"
   ],
   "id": "68d66119dad774a",
   "outputs": [
    {
     "data": {
      "text/plain": [
       "Sequential(\n",
       "  (0): Linear(in_features=10, out_features=14, bias=True)\n",
       "  (1): Linear(in_features=14, out_features=19, bias=True)\n",
       "  (2): Linear(in_features=19, out_features=8, bias=True)\n",
       ")"
      ]
     },
     "execution_count": 2,
     "metadata": {},
     "output_type": "execute_result"
    }
   ],
   "execution_count": 2
  },
  {
   "metadata": {
    "ExecuteTime": {
     "end_time": "2024-09-01T06:15:41.186434Z",
     "start_time": "2024-09-01T06:15:41.183157Z"
    }
   },
   "cell_type": "code",
   "source": [
    "for i in range(len(aModel)):\n",
    "    print(aModel[i].weight.shape)"
   ],
   "id": "269098bde8b063da",
   "outputs": [
    {
     "name": "stdout",
     "output_type": "stream",
     "text": [
      "torch.Size([14, 10])\n",
      "torch.Size([19, 14])\n",
      "torch.Size([8, 19])\n"
     ]
    }
   ],
   "execution_count": 3
  },
  {
   "metadata": {
    "ExecuteTime": {
     "end_time": "2024-09-01T06:17:01.901936Z",
     "start_time": "2024-09-01T06:17:01.898525Z"
    }
   },
   "cell_type": "code",
   "source": [
    "# generate the data\n",
    "nsamples = 5\n",
    "nfeatures = 10\n",
    "\n",
    "fakedata = torch.randn(nsamples,nfeatures)"
   ],
   "id": "50412ddedc1aa9e3",
   "outputs": [],
   "execution_count": 4
  },
  {
   "metadata": {
    "ExecuteTime": {
     "end_time": "2024-09-01T06:17:10.472382Z",
     "start_time": "2024-09-01T06:17:10.466863Z"
    }
   },
   "cell_type": "code",
   "source": [
    "# test the first model\n",
    "\n",
    "aModel(fakedata).shape"
   ],
   "id": "136b85bfab9c2fe4",
   "outputs": [
    {
     "data": {
      "text/plain": [
       "torch.Size([5, 8])"
      ]
     },
     "execution_count": 5,
     "metadata": {},
     "output_type": "execute_result"
    }
   ],
   "execution_count": 5
  }
 ],
 "metadata": {
  "kernelspec": {
   "display_name": "Python 3",
   "language": "python",
   "name": "python3"
  },
  "language_info": {
   "codemirror_mode": {
    "name": "ipython",
    "version": 2
   },
   "file_extension": ".py",
   "mimetype": "text/x-python",
   "name": "python",
   "nbconvert_exporter": "python",
   "pygments_lexer": "ipython2",
   "version": "2.7.6"
  }
 },
 "nbformat": 4,
 "nbformat_minor": 5
}
