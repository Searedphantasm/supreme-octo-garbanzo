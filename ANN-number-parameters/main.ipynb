{
 "cells": [
  {
   "cell_type": "code",
   "id": "initial_id",
   "metadata": {
    "collapsed": true,
    "ExecuteTime": {
     "end_time": "2024-08-16T07:28:19.687033Z",
     "start_time": "2024-08-16T07:28:19.684792Z"
    }
   },
   "source": [
    "import numpy as np\n",
    "import torch\n",
    "import torch.nn as nn"
   ],
   "outputs": [],
   "execution_count": 9
  },
  {
   "metadata": {
    "ExecuteTime": {
     "end_time": "2024-08-16T07:28:19.699132Z",
     "start_time": "2024-08-16T07:28:19.695683Z"
    }
   },
   "cell_type": "code",
   "source": [
    "# build two model\n",
    "\n",
    "wideNet = nn.Sequential(\n",
    "    nn.Linear(2,4),\n",
    "    nn.Linear(4,3)\n",
    ")\n",
    "\n",
    "\n",
    "deepNet = nn.Sequential(\n",
    "    nn.Linear(2,2),\n",
    "    nn.Linear(2,2),\n",
    "    nn.Linear(2,3),\n",
    ")\n",
    "\n",
    "# printing to have a look \n",
    "print(wideNet,end=\"\\n\\n\")\n",
    "print(deepNet,end=\"\\n\\n\")"
   ],
   "id": "214d6d18471864b2",
   "outputs": [
    {
     "name": "stdout",
     "output_type": "stream",
     "text": [
      "Sequential(\n",
      "  (0): Linear(in_features=2, out_features=4, bias=True)\n",
      "  (1): Linear(in_features=4, out_features=3, bias=True)\n",
      ")\n",
      "\n",
      "Sequential(\n",
      "  (0): Linear(in_features=2, out_features=2, bias=True)\n",
      "  (1): Linear(in_features=2, out_features=2, bias=True)\n",
      "  (2): Linear(in_features=2, out_features=3, bias=True)\n",
      ")\n",
      "\n"
     ]
    }
   ],
   "execution_count": 10
  },
  {
   "metadata": {},
   "cell_type": "markdown",
   "source": "## Peeking inside the network",
   "id": "d871cf574a6d3063"
  },
  {
   "metadata": {
    "ExecuteTime": {
     "end_time": "2024-08-16T07:28:19.719465Z",
     "start_time": "2024-08-16T07:28:19.715639Z"
    }
   },
   "cell_type": "code",
   "source": [
    "# check out the parameters\n",
    "for p in deepNet.named_parameters():\n",
    "    print(p,end='\\n\\n')"
   ],
   "id": "9c727982d9733361",
   "outputs": [
    {
     "name": "stdout",
     "output_type": "stream",
     "text": [
      "('0.weight', Parameter containing:\n",
      "tensor([[-0.0581, -0.5791],\n",
      "        [ 0.3967, -0.5903]], requires_grad=True))\n",
      "\n",
      "('0.bias', Parameter containing:\n",
      "tensor([0.5276, 0.6130], requires_grad=True))\n",
      "\n",
      "('1.weight', Parameter containing:\n",
      "tensor([[-0.5779, -0.3551],\n",
      "        [ 0.1011, -0.6826]], requires_grad=True))\n",
      "\n",
      "('1.bias', Parameter containing:\n",
      "tensor([-0.0955, -0.6191], requires_grad=True))\n",
      "\n",
      "('2.weight', Parameter containing:\n",
      "tensor([[-0.5981,  0.6149],\n",
      "        [ 0.4628, -0.1626],\n",
      "        [ 0.4397, -0.6009]], requires_grad=True))\n",
      "\n",
      "('2.bias', Parameter containing:\n",
      "tensor([0.0370, 0.4184, 0.1086], requires_grad=True))\n",
      "\n"
     ]
    }
   ],
   "execution_count": 11
  },
  {
   "metadata": {
    "ExecuteTime": {
     "end_time": "2024-08-16T07:28:19.739489Z",
     "start_time": "2024-08-16T07:28:19.735937Z"
    }
   },
   "cell_type": "code",
   "source": [
    "# count the total number of nodes ( = the number od biases ) \n",
    "\n",
    "# named_parameters() is an iterable that returns the tuple (name,numbers)\n",
    "numNodesWide = 0\n",
    "for p in wideNet.named_parameters():\n",
    "    if \"bias\" in p[0]:\n",
    "        numNodesWide += len(p[1])\n",
    "        \n",
    "numNodesDeep = 0\n",
    "for paramName,paramVect in deepNet.named_parameters():\n",
    "    if \"bias\" in paramName:\n",
    "        numNodesDeep += len(paramVect)\n",
    "        \n",
    "print(\"There are %s nodes in the wide network\" % numNodesWide)\n",
    "print(\"There are %s nodes in the deep network\" % numNodesDeep)"
   ],
   "id": "c2b6172a3d2ca31f",
   "outputs": [
    {
     "name": "stdout",
     "output_type": "stream",
     "text": [
      "There are 7 nodes in the wide network\n",
      "There are 7 nodes in the deep network\n"
     ]
    }
   ],
   "execution_count": 12
  },
  {
   "metadata": {
    "ExecuteTime": {
     "end_time": "2024-08-16T07:28:19.759529Z",
     "start_time": "2024-08-16T07:28:19.755788Z"
    }
   },
   "cell_type": "code",
   "source": [
    "# just the parameters , without names\n",
    "for p in wideNet.parameters():\n",
    "    print(p)\n",
    "    print(' ')"
   ],
   "id": "6b24e5745432a8f3",
   "outputs": [
    {
     "name": "stdout",
     "output_type": "stream",
     "text": [
      "Parameter containing:\n",
      "tensor([[-0.1667,  0.4618],\n",
      "        [ 0.0966,  0.6079],\n",
      "        [ 0.1724, -0.4797],\n",
      "        [-0.4513, -0.3306]], requires_grad=True)\n",
      " \n",
      "Parameter containing:\n",
      "tensor([ 0.6234, -0.2336, -0.6798, -0.2385], requires_grad=True)\n",
      " \n",
      "Parameter containing:\n",
      "tensor([[ 0.0063,  0.4285, -0.1742, -0.3618],\n",
      "        [-0.0969, -0.2059, -0.3802, -0.3264],\n",
      "        [ 0.2195, -0.4522, -0.3330,  0.2360]], requires_grad=True)\n",
      " \n",
      "Parameter containing:\n",
      "tensor([-0.3692, -0.0514, -0.2248], requires_grad=True)\n",
      " \n"
     ]
    }
   ],
   "execution_count": 13
  },
  {
   "metadata": {
    "ExecuteTime": {
     "end_time": "2024-08-16T07:28:19.779979Z",
     "start_time": "2024-08-16T07:28:19.776734Z"
    }
   },
   "cell_type": "code",
   "source": [
    "# total count of trainable parameters\n",
    "nParams = 0\n",
    "for p in wideNet.parameters():\n",
    "    if p.requires_grad:\n",
    "        print(\"This piece has %s parameters.\" %p.numel())\n",
    "        nParams += p.numel()\n",
    "print(\"\\n\\n There are %s total parameters.\" % nParams)"
   ],
   "id": "61bee4228a866487",
   "outputs": [
    {
     "name": "stdout",
     "output_type": "stream",
     "text": [
      "This piece has 8 parameters.\n",
      "This piece has 4 parameters.\n",
      "This piece has 12 parameters.\n",
      "This piece has 3 parameters.\n",
      "\n",
      "\n",
      " There are 27 total parameters.\n"
     ]
    }
   ],
   "execution_count": 14
  },
  {
   "metadata": {
    "ExecuteTime": {
     "end_time": "2024-08-16T07:28:19.881254Z",
     "start_time": "2024-08-16T07:28:19.878018Z"
    }
   },
   "cell_type": "code",
   "source": [
    "# using list comprehension\n",
    "\n",
    "nParams = np.sum([p.numel() for p in wideNet.parameters() if p.requires_grad])\n",
    "print(\"Widenet has %s total parameters.\" % nParams)\n",
    "\n",
    "nParams2 = np.sum([p.numel() for p in deepNet.parameters() if p.requires_grad])\n",
    "print(\"DeepNet has %s total parameters.\" % nParams2)"
   ],
   "id": "2b88816f27f5ae6d",
   "outputs": [
    {
     "name": "stdout",
     "output_type": "stream",
     "text": [
      "Widenet has 27 total parameters.\n",
      "DeepNet has 21 total parameters.\n"
     ]
    }
   ],
   "execution_count": 15
  },
  {
   "metadata": {
    "ExecuteTime": {
     "end_time": "2024-08-16T07:33:42.323396Z",
     "start_time": "2024-08-16T07:33:42.308319Z"
    }
   },
   "cell_type": "code",
   "source": [
    "# simple way to print \n",
    "from torchinfo import summary\n",
    "summary(wideNet,(1, 2))"
   ],
   "id": "e83ec678226524b4",
   "outputs": [
    {
     "data": {
      "text/plain": [
       "==========================================================================================\n",
       "Layer (type:depth-idx)                   Output Shape              Param #\n",
       "==========================================================================================\n",
       "Sequential                               [1, 3]                    --\n",
       "├─Linear: 1-1                            [1, 4]                    12\n",
       "├─Linear: 1-2                            [1, 3]                    15\n",
       "==========================================================================================\n",
       "Total params: 27\n",
       "Trainable params: 27\n",
       "Non-trainable params: 0\n",
       "Total mult-adds (Units.MEGABYTES): 0.00\n",
       "==========================================================================================\n",
       "Input size (MB): 0.00\n",
       "Forward/backward pass size (MB): 0.00\n",
       "Params size (MB): 0.00\n",
       "Estimated Total Size (MB): 0.00\n",
       "=========================================================================================="
      ]
     },
     "execution_count": 19,
     "metadata": {},
     "output_type": "execute_result"
    }
   ],
   "execution_count": 19
  }
 ],
 "metadata": {
  "kernelspec": {
   "display_name": "Python 3",
   "language": "python",
   "name": "python3"
  },
  "language_info": {
   "codemirror_mode": {
    "name": "ipython",
    "version": 2
   },
   "file_extension": ".py",
   "mimetype": "text/x-python",
   "name": "python",
   "nbconvert_exporter": "python",
   "pygments_lexer": "ipython2",
   "version": "2.7.6"
  }
 },
 "nbformat": 4,
 "nbformat_minor": 5
}
