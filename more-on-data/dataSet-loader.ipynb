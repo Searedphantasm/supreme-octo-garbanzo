{
 "cells": [
  {
   "cell_type": "code",
   "id": "initial_id",
   "metadata": {
    "collapsed": true,
    "ExecuteTime": {
     "end_time": "2024-08-27T05:28:22.760238Z",
     "start_time": "2024-08-27T05:28:21.755713Z"
    }
   },
   "source": [
    "import numpy as np\n",
    "import torch\n",
    "from torch.utils.data import DataLoader,TensorDataset"
   ],
   "outputs": [],
   "execution_count": 1
  },
  {
   "metadata": {},
   "cell_type": "markdown",
   "source": "# DataSets",
   "id": "690d7e0033a5dc7c"
  },
  {
   "metadata": {
    "ExecuteTime": {
     "end_time": "2024-08-27T05:29:24.604317Z",
     "start_time": "2024-08-27T05:29:24.601272Z"
    }
   },
   "cell_type": "code",
   "source": [
    "# create some data in numpy\n",
    "\n",
    "nObservations = 100\n",
    "nFeatures = 20\n",
    "\n",
    "data = np.random.randn(nObservations, nFeatures)"
   ],
   "id": "6735a03649e0950",
   "outputs": [],
   "execution_count": 2
  },
  {
   "metadata": {
    "ExecuteTime": {
     "end_time": "2024-08-27T05:31:38.984665Z",
     "start_time": "2024-08-27T05:31:38.981263Z"
    }
   },
   "cell_type": "code",
   "source": [
    "# Convert to pytorch tensor\n",
    "dataT = torch.tensor( data )\n",
    "\n",
    "# print some info\n",
    "print(\"Numpy data:\")\n",
    "print(type(data))\n",
    "print(data.shape)\n",
    "print(data.dtype)\n",
    "print(' ')\n",
    "\n",
    "print(\"Tensor data:\")\n",
    "print(type(dataT))\n",
    "print(dataT.size()) # .shape works too\n",
    "print(dataT.dtype)\n",
    "print(' ')"
   ],
   "id": "890ee937adf73f64",
   "outputs": [
    {
     "name": "stdout",
     "output_type": "stream",
     "text": [
      "Numpy data:\n",
      "<class 'numpy.ndarray'>\n",
      "(100, 20)\n",
      "float64\n",
      " \n",
      "Tensor data:\n",
      "<class 'torch.Tensor'>\n",
      "torch.Size([100, 20])\n",
      "torch.float64\n",
      " \n"
     ]
    }
   ],
   "execution_count": 3
  },
  {
   "metadata": {
    "ExecuteTime": {
     "end_time": "2024-08-27T05:36:17.586243Z",
     "start_time": "2024-08-27T05:36:17.583407Z"
    }
   },
   "cell_type": "code",
   "source": [
    "# converting data types\n",
    "# float is float32\n",
    "dataT2 = torch.tensor(data).float()\n",
    "print(dataT2.dtype)\n",
    "\n",
    "# \"long\" is for ints\n",
    "dataT3 = torch.tensor( data ).long()\n",
    "print(dataT3.dtype)"
   ],
   "id": "44eac8f071509e9f",
   "outputs": [
    {
     "name": "stdout",
     "output_type": "stream",
     "text": [
      "torch.float32\n",
      "torch.int64\n"
     ]
    }
   ],
   "execution_count": 5
  },
  {
   "metadata": {
    "ExecuteTime": {
     "end_time": "2024-08-27T05:52:32.615368Z",
     "start_time": "2024-08-27T05:52:32.610908Z"
    }
   },
   "cell_type": "code",
   "source": [
    "# Convert tensor into Pytorch Datasets\n",
    "\n",
    "# dataset = TensorDataset(data) # not a tensor\n",
    "dataset = TensorDataset(dataT)\n",
    "\n",
    "# dataset is two-element tuple comprising data,labels\n",
    "dataset.tensors"
   ],
   "id": "cb06d2feba8f7229",
   "outputs": [
    {
     "data": {
      "text/plain": [
       "(tensor([[ 0.3114, -1.1392, -0.2701,  ...,  0.2587,  0.7307,  0.0051],\n",
       "         [-1.3686,  0.3959, -0.2209,  ..., -0.9541,  0.3131, -1.1727],\n",
       "         [-0.2768, -0.0041,  0.4392,  ..., -0.3512, -0.3465, -0.4454],\n",
       "         ...,\n",
       "         [-0.3442,  0.2780,  1.3481,  ..., -0.3066,  0.4597, -0.7031],\n",
       "         [ 1.1471, -0.6799, -0.8186,  ..., -0.0042,  0.0171,  2.0671],\n",
       "         [-0.5900, -0.6610,  1.5104,  ...,  0.8764,  0.4374,  0.2344]],\n",
       "        dtype=torch.float64),)"
      ]
     },
     "execution_count": 7,
     "metadata": {},
     "output_type": "execute_result"
    }
   ],
   "execution_count": 7
  },
  {
   "metadata": {
    "ExecuteTime": {
     "end_time": "2024-08-27T06:00:25.755105Z",
     "start_time": "2024-08-27T06:00:25.750686Z"
    }
   },
   "cell_type": "code",
   "source": [
    "# let's try again with labels\n",
    "labels = torch.ceil(torch.linspace(.01,4,nObservations))\n",
    "\n",
    "# transform to an acutal matrix \n",
    "labels = labels.reshape((len(labels),1))\n",
    "print( labels )\n",
    "\n",
    "# another dataset\n",
    "dataset = TensorDataset(dataT, labels)\n",
    "print(dataset.tensors[0].size())\n",
    "print(dataset.tensors[1].size())\n",
    "\n",
    "# for comparison , doesn't have orientation.\n",
    "print( np.shape(np.random.randint(5,size=nObservations)))"
   ],
   "id": "fb4b19c0601f9683",
   "outputs": [
    {
     "name": "stdout",
     "output_type": "stream",
     "text": [
      "tensor([[1.],\n",
      "        [1.],\n",
      "        [1.],\n",
      "        [1.],\n",
      "        [1.],\n",
      "        [1.],\n",
      "        [1.],\n",
      "        [1.],\n",
      "        [1.],\n",
      "        [1.],\n",
      "        [1.],\n",
      "        [1.],\n",
      "        [1.],\n",
      "        [1.],\n",
      "        [1.],\n",
      "        [1.],\n",
      "        [1.],\n",
      "        [1.],\n",
      "        [1.],\n",
      "        [1.],\n",
      "        [1.],\n",
      "        [1.],\n",
      "        [1.],\n",
      "        [1.],\n",
      "        [1.],\n",
      "        [2.],\n",
      "        [2.],\n",
      "        [2.],\n",
      "        [2.],\n",
      "        [2.],\n",
      "        [2.],\n",
      "        [2.],\n",
      "        [2.],\n",
      "        [2.],\n",
      "        [2.],\n",
      "        [2.],\n",
      "        [2.],\n",
      "        [2.],\n",
      "        [2.],\n",
      "        [2.],\n",
      "        [2.],\n",
      "        [2.],\n",
      "        [2.],\n",
      "        [2.],\n",
      "        [2.],\n",
      "        [2.],\n",
      "        [2.],\n",
      "        [2.],\n",
      "        [2.],\n",
      "        [2.],\n",
      "        [3.],\n",
      "        [3.],\n",
      "        [3.],\n",
      "        [3.],\n",
      "        [3.],\n",
      "        [3.],\n",
      "        [3.],\n",
      "        [3.],\n",
      "        [3.],\n",
      "        [3.],\n",
      "        [3.],\n",
      "        [3.],\n",
      "        [3.],\n",
      "        [3.],\n",
      "        [3.],\n",
      "        [3.],\n",
      "        [3.],\n",
      "        [3.],\n",
      "        [3.],\n",
      "        [3.],\n",
      "        [3.],\n",
      "        [3.],\n",
      "        [3.],\n",
      "        [3.],\n",
      "        [3.],\n",
      "        [4.],\n",
      "        [4.],\n",
      "        [4.],\n",
      "        [4.],\n",
      "        [4.],\n",
      "        [4.],\n",
      "        [4.],\n",
      "        [4.],\n",
      "        [4.],\n",
      "        [4.],\n",
      "        [4.],\n",
      "        [4.],\n",
      "        [4.],\n",
      "        [4.],\n",
      "        [4.],\n",
      "        [4.],\n",
      "        [4.],\n",
      "        [4.],\n",
      "        [4.],\n",
      "        [4.],\n",
      "        [4.],\n",
      "        [4.],\n",
      "        [4.],\n",
      "        [4.],\n",
      "        [4.]])\n",
      "torch.Size([100, 20])\n",
      "torch.Size([100, 1])\n",
      "(100,)\n"
     ]
    }
   ],
   "execution_count": 9
  },
  {
   "metadata": {},
   "cell_type": "markdown",
   "source": "# DataLoaders",
   "id": "5b866b562b946bed"
  },
  {
   "metadata": {
    "ExecuteTime": {
     "end_time": "2024-08-27T06:01:57.181482Z",
     "start_time": "2024-08-27T06:01:57.178056Z"
    }
   },
   "cell_type": "code",
   "source": [
    "batchSize = 25\n",
    "data_loader = DataLoader(dataset, batch_size=batchSize) # shuffle=True,drop_last=True\n",
    "\n",
    "data_loader.dataset.tensors[0].size()"
   ],
   "id": "801ebe431438eb8c",
   "outputs": [
    {
     "data": {
      "text/plain": [
       "torch.Size([100, 20])"
      ]
     },
     "execution_count": 10,
     "metadata": {},
     "output_type": "execute_result"
    }
   ],
   "execution_count": 10
  },
  {
   "metadata": {
    "ExecuteTime": {
     "end_time": "2024-08-27T06:02:51.372672Z",
     "start_time": "2024-08-27T06:02:51.367876Z"
    }
   },
   "cell_type": "code",
   "source": [
    "# sizes of each batch \n",
    "for dat,labs in data_loader:\n",
    "    print(\"Batch info:\")\n",
    "    print(dat.size())\n",
    "    print(labs.size())\n",
    "    print(' ')"
   ],
   "id": "e6d4b6a0885c80ea",
   "outputs": [
    {
     "name": "stdout",
     "output_type": "stream",
     "text": [
      "Batch info:\n",
      "torch.Size([25, 20])\n",
      "torch.Size([25, 1])\n",
      " \n",
      "Batch info:\n",
      "torch.Size([25, 20])\n",
      "torch.Size([25, 1])\n",
      " \n",
      "Batch info:\n",
      "torch.Size([25, 20])\n",
      "torch.Size([25, 1])\n",
      " \n",
      "Batch info:\n",
      "torch.Size([25, 20])\n",
      "torch.Size([25, 1])\n",
      " \n"
     ]
    }
   ],
   "execution_count": 11
  },
  {
   "metadata": {
    "ExecuteTime": {
     "end_time": "2024-08-27T06:05:40.168755Z",
     "start_time": "2024-08-27T06:05:40.164318Z"
    }
   },
   "cell_type": "code",
   "source": [
    "# inspecting data\n",
    "for dat,labs in data_loader:\n",
    "    print(labs.T,end=\"\\n\\n\")"
   ],
   "id": "31923adca3443cc8",
   "outputs": [
    {
     "name": "stdout",
     "output_type": "stream",
     "text": [
      "tensor([[1., 1., 1., 1., 1., 1., 1., 1., 1., 1., 1., 1., 1., 1., 1., 1., 1., 1.,\n",
      "         1., 1., 1., 1., 1., 1., 1.]])\n",
      "\n",
      "tensor([[2., 2., 2., 2., 2., 2., 2., 2., 2., 2., 2., 2., 2., 2., 2., 2., 2., 2.,\n",
      "         2., 2., 2., 2., 2., 2., 2.]])\n",
      "\n",
      "tensor([[3., 3., 3., 3., 3., 3., 3., 3., 3., 3., 3., 3., 3., 3., 3., 3., 3., 3.,\n",
      "         3., 3., 3., 3., 3., 3., 3.]])\n",
      "\n",
      "tensor([[4., 4., 4., 4., 4., 4., 4., 4., 4., 4., 4., 4., 4., 4., 4., 4., 4., 4.,\n",
      "         4., 4., 4., 4., 4., 4., 4.]])\n",
      "\n"
     ]
    }
   ],
   "execution_count": 12
  },
  {
   "metadata": {
    "ExecuteTime": {
     "end_time": "2024-08-27T06:06:55.317374Z",
     "start_time": "2024-08-27T06:06:55.312119Z"
    }
   },
   "cell_type": "code",
   "source": [
    "# with shuffle\n",
    "dataloader = DataLoader(dataset, batch_size=batchSize,shuffle=True)\n",
    "\n",
    "# its get shuffled each time it gets called.\n",
    "for dat,labs in dataloader:\n",
    "    print(labs.T,end=\"\\n\\n\")"
   ],
   "id": "4291aff43729aebf",
   "outputs": [
    {
     "name": "stdout",
     "output_type": "stream",
     "text": [
      "tensor([[3., 3., 2., 2., 1., 4., 1., 4., 2., 3., 4., 2., 3., 1., 4., 1., 4., 3.,\n",
      "         1., 3., 3., 4., 1., 4., 1.]])\n",
      "\n",
      "tensor([[3., 3., 2., 4., 2., 2., 4., 2., 2., 3., 1., 3., 1., 3., 2., 3., 4., 1.,\n",
      "         2., 1., 1., 4., 2., 1., 1.]])\n",
      "\n",
      "tensor([[2., 3., 4., 4., 1., 4., 4., 4., 3., 1., 3., 2., 2., 4., 3., 3., 2., 4.,\n",
      "         1., 2., 2., 4., 1., 2., 1.]])\n",
      "\n",
      "tensor([[2., 3., 4., 4., 2., 1., 1., 4., 3., 1., 3., 3., 1., 3., 2., 4., 1., 3.,\n",
      "         2., 4., 2., 3., 4., 1., 2.]])\n",
      "\n"
     ]
    }
   ],
   "execution_count": 13
  },
  {
   "metadata": {
    "ExecuteTime": {
     "end_time": "2024-08-27T06:08:43.722045Z",
     "start_time": "2024-08-27T06:08:43.717582Z"
    }
   },
   "cell_type": "code",
   "source": [
    "# get only one batch\n",
    "\n",
    "dat,labs = next(iter(dataloader))\n",
    "\n",
    "labs"
   ],
   "id": "61baa454be30494b",
   "outputs": [
    {
     "data": {
      "text/plain": [
       "tensor([[1.],\n",
       "        [1.],\n",
       "        [4.],\n",
       "        [2.],\n",
       "        [4.],\n",
       "        [2.],\n",
       "        [2.],\n",
       "        [1.],\n",
       "        [3.],\n",
       "        [2.],\n",
       "        [3.],\n",
       "        [1.],\n",
       "        [3.],\n",
       "        [2.],\n",
       "        [1.],\n",
       "        [1.],\n",
       "        [2.],\n",
       "        [2.],\n",
       "        [1.],\n",
       "        [4.],\n",
       "        [3.],\n",
       "        [2.],\n",
       "        [2.],\n",
       "        [3.],\n",
       "        [3.]])"
      ]
     },
     "execution_count": 14,
     "metadata": {},
     "output_type": "execute_result"
    }
   ],
   "execution_count": 14
  }
 ],
 "metadata": {
  "kernelspec": {
   "display_name": "Python 3",
   "language": "python",
   "name": "python3"
  },
  "language_info": {
   "codemirror_mode": {
    "name": "ipython",
    "version": 2
   },
   "file_extension": ".py",
   "mimetype": "text/x-python",
   "name": "python",
   "nbconvert_exporter": "python",
   "pygments_lexer": "ipython2",
   "version": "2.7.6"
  }
 },
 "nbformat": 4,
 "nbformat_minor": 5
}
