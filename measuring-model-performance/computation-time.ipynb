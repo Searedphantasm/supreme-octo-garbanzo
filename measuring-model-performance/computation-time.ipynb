{
 "cells": [
  {
   "cell_type": "code",
   "id": "initial_id",
   "metadata": {
    "collapsed": true,
    "ExecuteTime": {
     "end_time": "2024-08-29T05:16:06.467084Z",
     "start_time": "2024-08-29T05:16:06.464138Z"
    }
   },
   "source": [
    "# import libraries\n",
    "import numpy as np\n",
    "\n",
    "import torch\n",
    "import torch.nn as nn\n",
    "import torch.nn.functional as F\n",
    "from torch.utils.data import DataLoader, TensorDataset\n",
    "from sklearn.model_selection import train_test_split\n",
    "\n",
    "import time\n",
    "\n",
    "import matplotlib.pyplot as plt\n",
    "import matplotlib_inline\n",
    "matplotlib_inline.backend_inline.set_matplotlib_formats(\"svg\")"
   ],
   "outputs": [],
   "execution_count": 3
  },
  {
   "metadata": {
    "ExecuteTime": {
     "end_time": "2024-08-29T05:16:07.629289Z",
     "start_time": "2024-08-29T05:16:06.724837Z"
    }
   },
   "cell_type": "code",
   "source": [
    "# import dataset (comes with colab!)\n",
    "data = np.loadtxt(open('../FFNs/mnist_train_small.csv','rb'),delimiter=',')\n",
    "\n",
    "# extract labels (number IDs) and remove from data\n",
    "labels = data[:,0]\n",
    "data   = data[:,1:]\n",
    "\n",
    "# normalize the data to a range of [0 1]\n",
    "dataNorm = data / np.max(data)"
   ],
   "id": "50fce3b920134560",
   "outputs": [],
   "execution_count": 4
  },
  {
   "metadata": {
    "ExecuteTime": {
     "end_time": "2024-08-29T05:16:35.958767Z",
     "start_time": "2024-08-29T05:16:35.927336Z"
    }
   },
   "cell_type": "code",
   "source": [
    "# Step 1: convert to tensor\n",
    "dataT   = torch.tensor( dataNorm ).float()\n",
    "labelsT = torch.tensor( labels ).long()\n",
    "\n",
    "# Step 2: use scikitlearn to split the data\n",
    "train_data,test_data, train_labels,test_labels = train_test_split(dataT, labelsT, test_size=.1)\n",
    "\n",
    "\n",
    "# Step 3: convert into PyTorch Datasets\n",
    "train_data = torch.utils.data.TensorDataset(train_data,train_labels)\n",
    "test_data  = torch.utils.data.TensorDataset(test_data,test_labels)\n",
    "\n",
    "# Step 4: translate into dataloader objects\n",
    "batchsize  = 32\n",
    "train_loader = DataLoader(train_data,batch_size=batchsize,shuffle=True,drop_last=True)\n",
    "test_loader  = DataLoader(test_data,batch_size=test_data.tensors[0].shape[0])"
   ],
   "id": "c1436c0f1ddc4e00",
   "outputs": [],
   "execution_count": 5
  },
  {
   "metadata": {
    "ExecuteTime": {
     "end_time": "2024-08-29T05:16:37.624287Z",
     "start_time": "2024-08-29T05:16:37.620717Z"
    }
   },
   "cell_type": "code",
   "source": [
    "# create a class for the model\n",
    "def createTheMNISTNet():\n",
    "\n",
    "  class mnistNet(nn.Module):\n",
    "    def __init__(self):\n",
    "      super().__init__()\n",
    "\n",
    "      ### input layer\n",
    "      self.input = nn.Linear(784,64)\n",
    "      \n",
    "      ### hidden layer\n",
    "      self.fc1 = nn.Linear(64,32)\n",
    "      self.fc2 = nn.Linear(32,32)\n",
    "\n",
    "      ### output layer\n",
    "      self.output = nn.Linear(32,10)\n",
    "\n",
    "    # forward pass\n",
    "    def forward(self,x):\n",
    "      x = F.relu( self.input(x) )\n",
    "      x = F.relu( self.fc1(x) )\n",
    "      x = F.relu( self.fc2(x) )\n",
    "      return self.output(x)\n",
    "  \n",
    "  # create the model instance\n",
    "  net = mnistNet()\n",
    "  \n",
    "  # loss function\n",
    "  lossfun = nn.CrossEntropyLoss()\n",
    "\n",
    "  # optimizer\n",
    "  optimizer = torch.optim.Adam(net.parameters(),lr=.01)\n",
    "\n",
    "  return net,lossfun,optimizer"
   ],
   "id": "93916df5bf064218",
   "outputs": [],
   "execution_count": 6
  },
  {
   "metadata": {
    "ExecuteTime": {
     "end_time": "2024-08-29T05:23:30.513274Z",
     "start_time": "2024-08-29T05:23:30.508211Z"
    }
   },
   "cell_type": "code",
   "source": [
    "def function2trainTheModel():\n",
    "\n",
    "  # Start the timer\n",
    "  timerInFunction = time.process_time()\n",
    "\n",
    "  # number of epochs\n",
    "  numepochs = 10\n",
    "  \n",
    "  # create a new model\n",
    "  net,lossfun,optimizer = createTheMNISTNet()\n",
    "\n",
    "  # initialize losses\n",
    "  losses    = torch.zeros(numepochs)\n",
    "  trainAcc  = []\n",
    "  testAcc   = []\n",
    "\n",
    "\n",
    "  # loop over epochs\n",
    "  for epochi in range(numepochs):\n",
    "\n",
    "    # loop over training data batches\n",
    "    batchAcc  = []\n",
    "    batchLoss = []\n",
    "    for X,y in train_loader:\n",
    "\n",
    "      # forward pass and loss\n",
    "      yHat = net(X)\n",
    "      loss = lossfun(yHat,y)\n",
    "\n",
    "      # backprop\n",
    "      optimizer.zero_grad()\n",
    "      loss.backward()\n",
    "      optimizer.step()\n",
    "\n",
    "      # loss from this batch\n",
    "      batchLoss.append(loss.item())\n",
    "\n",
    "      # compute accuracy\n",
    "      matches = torch.argmax(yHat,axis=1) == y     # booleans (false/true)\n",
    "      matchesNumeric = matches.float()             # convert to numbers (0/1)\n",
    "      accuracyPct = 100*torch.mean(matchesNumeric) # average and x100\n",
    "      batchAcc.append( accuracyPct )               # add to list of accuracies\n",
    "    # end of batch loop...\n",
    "\n",
    "    # now that we've trained through the batches, get their average training accuracy\n",
    "    trainAcc.append( np.mean(batchAcc) )\n",
    "\n",
    "    # and get average losses across the batches\n",
    "    losses[epochi] = np.mean(batchLoss)\n",
    "\n",
    "    # test accuracy\n",
    "    X,y = next(iter(test_loader)) # extract X,y from test dataloader\n",
    "    with torch.no_grad(): # deactivates autograd\n",
    "      yHat = net(X)\n",
    "      \n",
    "    # compare the following really long line of code to the training accuracy lines\n",
    "    testAcc.append( 100*torch.mean((torch.argmax(yHat,axis=1)==y).float()) )\n",
    "\n",
    "    # Finally, report the epoch number, computation time, and accuracy\n",
    "    comptime = time.process_time() - timerInFunction\n",
    "    print(f'Epoch {epochi+1}/{numepochs}, elapsed time: {comptime:.2f} milli second, test accuracy {testAcc[-1]:.0f}%')\n",
    "\n",
    "  # end epochs\n",
    "\n",
    "  # function output\n",
    "  return trainAcc,testAcc,losses,net"
   ],
   "id": "7936106d159c2a7d",
   "outputs": [],
   "execution_count": 13
  },
  {
   "metadata": {
    "ExecuteTime": {
     "end_time": "2024-08-29T05:23:38.537095Z",
     "start_time": "2024-08-29T05:23:32.521267Z"
    }
   },
   "cell_type": "code",
   "source": "trainAcc,testAcc,losses,net = function2trainTheModel()",
   "id": "15c6956e94ba729",
   "outputs": [
    {
     "name": "stdout",
     "output_type": "stream",
     "text": [
      "Epoch 1/10, elapsed time: 17.97 milli second, test accuracy 91%\n",
      "Epoch 2/10, elapsed time: 35.12 milli second, test accuracy 93%\n",
      "Epoch 3/10, elapsed time: 52.02 milli second, test accuracy 94%\n",
      "Epoch 4/10, elapsed time: 69.11 milli second, test accuracy 94%\n",
      "Epoch 5/10, elapsed time: 86.73 milli second, test accuracy 94%\n",
      "Epoch 6/10, elapsed time: 103.11 milli second, test accuracy 94%\n",
      "Epoch 7/10, elapsed time: 122.97 milli second, test accuracy 94%\n",
      "Epoch 8/10, elapsed time: 139.38 milli second, test accuracy 94%\n",
      "Epoch 9/10, elapsed time: 156.22 milli second, test accuracy 93%\n",
      "Epoch 10/10, elapsed time: 173.44 milli second, test accuracy 94%\n"
     ]
    }
   ],
   "execution_count": 14
  },
  {
   "metadata": {
    "ExecuteTime": {
     "end_time": "2024-08-29T05:32:48.947981Z",
     "start_time": "2024-08-29T05:31:47.733206Z"
    }
   },
   "cell_type": "code",
   "source": [
    "# now run a second timer over repeated iterations\n",
    "\n",
    "# Start the timer (note the different variable name)\n",
    "timerOutsideFunction = time.process_time()\n",
    "\n",
    "for i in range(10):\n",
    "  function2trainTheModel()\n",
    "\n",
    "TotalExperimentTime = time.process_time() - timerOutsideFunction\n",
    "print(f'\\n\\n\\nTotal elapsed experiment time: {TotalExperimentTime/60:.3f} seconds')"
   ],
   "id": "cf0eac5c0616ae22",
   "outputs": [
    {
     "name": "stdout",
     "output_type": "stream",
     "text": [
      "Epoch 1/10, elapsed time: 17.97 milli second, test accuracy 92%\n",
      "Epoch 2/10, elapsed time: 36.67 milli second, test accuracy 93%\n",
      "Epoch 3/10, elapsed time: 53.70 milli second, test accuracy 94%\n",
      "Epoch 4/10, elapsed time: 71.08 milli second, test accuracy 94%\n",
      "Epoch 5/10, elapsed time: 87.70 milli second, test accuracy 95%\n",
      "Epoch 6/10, elapsed time: 105.16 milli second, test accuracy 94%\n",
      "Epoch 7/10, elapsed time: 121.83 milli second, test accuracy 93%\n",
      "Epoch 8/10, elapsed time: 139.19 milli second, test accuracy 93%\n",
      "Epoch 9/10, elapsed time: 156.42 milli second, test accuracy 94%\n",
      "Epoch 10/10, elapsed time: 173.52 milli second, test accuracy 95%\n",
      "Epoch 1/10, elapsed time: 16.75 milli second, test accuracy 91%\n",
      "Epoch 2/10, elapsed time: 33.52 milli second, test accuracy 94%\n",
      "Epoch 3/10, elapsed time: 51.08 milli second, test accuracy 93%\n",
      "Epoch 4/10, elapsed time: 68.39 milli second, test accuracy 95%\n",
      "Epoch 5/10, elapsed time: 84.42 milli second, test accuracy 94%\n",
      "Epoch 6/10, elapsed time: 101.75 milli second, test accuracy 94%\n",
      "Epoch 7/10, elapsed time: 118.92 milli second, test accuracy 94%\n",
      "Epoch 8/10, elapsed time: 138.00 milli second, test accuracy 94%\n",
      "Epoch 9/10, elapsed time: 155.27 milli second, test accuracy 94%\n",
      "Epoch 10/10, elapsed time: 172.34 milli second, test accuracy 94%\n",
      "Epoch 1/10, elapsed time: 17.28 milli second, test accuracy 91%\n",
      "Epoch 2/10, elapsed time: 34.42 milli second, test accuracy 92%\n",
      "Epoch 3/10, elapsed time: 51.03 milli second, test accuracy 93%\n",
      "Epoch 4/10, elapsed time: 69.02 milli second, test accuracy 92%\n",
      "Epoch 5/10, elapsed time: 86.55 milli second, test accuracy 94%\n",
      "Epoch 6/10, elapsed time: 103.50 milli second, test accuracy 94%\n",
      "Epoch 7/10, elapsed time: 120.48 milli second, test accuracy 95%\n",
      "Epoch 8/10, elapsed time: 136.53 milli second, test accuracy 94%\n",
      "Epoch 9/10, elapsed time: 154.06 milli second, test accuracy 95%\n",
      "Epoch 10/10, elapsed time: 171.53 milli second, test accuracy 94%\n",
      "Epoch 1/10, elapsed time: 16.89 milli second, test accuracy 92%\n",
      "Epoch 2/10, elapsed time: 33.92 milli second, test accuracy 93%\n",
      "Epoch 3/10, elapsed time: 51.00 milli second, test accuracy 94%\n",
      "Epoch 4/10, elapsed time: 67.86 milli second, test accuracy 94%\n",
      "Epoch 5/10, elapsed time: 85.69 milli second, test accuracy 94%\n",
      "Epoch 6/10, elapsed time: 105.30 milli second, test accuracy 94%\n",
      "Epoch 7/10, elapsed time: 122.70 milli second, test accuracy 95%\n",
      "Epoch 8/10, elapsed time: 139.72 milli second, test accuracy 95%\n",
      "Epoch 9/10, elapsed time: 156.81 milli second, test accuracy 94%\n",
      "Epoch 10/10, elapsed time: 174.45 milli second, test accuracy 95%\n",
      "Epoch 1/10, elapsed time: 16.98 milli second, test accuracy 91%\n",
      "Epoch 2/10, elapsed time: 34.09 milli second, test accuracy 92%\n",
      "Epoch 3/10, elapsed time: 51.48 milli second, test accuracy 93%\n",
      "Epoch 4/10, elapsed time: 68.80 milli second, test accuracy 94%\n",
      "Epoch 5/10, elapsed time: 87.02 milli second, test accuracy 93%\n",
      "Epoch 6/10, elapsed time: 104.34 milli second, test accuracy 93%\n",
      "Epoch 7/10, elapsed time: 121.06 milli second, test accuracy 93%\n",
      "Epoch 8/10, elapsed time: 137.89 milli second, test accuracy 92%\n",
      "Epoch 9/10, elapsed time: 155.31 milli second, test accuracy 95%\n",
      "Epoch 10/10, elapsed time: 172.47 milli second, test accuracy 95%\n",
      "Epoch 1/10, elapsed time: 17.05 milli second, test accuracy 92%\n",
      "Epoch 2/10, elapsed time: 34.55 milli second, test accuracy 93%\n",
      "Epoch 3/10, elapsed time: 52.39 milli second, test accuracy 94%\n",
      "Epoch 4/10, elapsed time: 68.66 milli second, test accuracy 94%\n",
      "Epoch 5/10, elapsed time: 85.05 milli second, test accuracy 94%\n",
      "Epoch 6/10, elapsed time: 103.88 milli second, test accuracy 93%\n",
      "Epoch 7/10, elapsed time: 120.55 milli second, test accuracy 94%\n",
      "Epoch 8/10, elapsed time: 137.69 milli second, test accuracy 95%\n",
      "Epoch 9/10, elapsed time: 154.31 milli second, test accuracy 95%\n",
      "Epoch 10/10, elapsed time: 171.25 milli second, test accuracy 94%\n",
      "Epoch 1/10, elapsed time: 17.58 milli second, test accuracy 88%\n",
      "Epoch 2/10, elapsed time: 34.17 milli second, test accuracy 93%\n",
      "Epoch 3/10, elapsed time: 51.19 milli second, test accuracy 93%\n",
      "Epoch 4/10, elapsed time: 67.92 milli second, test accuracy 94%\n",
      "Epoch 5/10, elapsed time: 85.34 milli second, test accuracy 94%\n",
      "Epoch 6/10, elapsed time: 103.11 milli second, test accuracy 94%\n",
      "Epoch 7/10, elapsed time: 119.62 milli second, test accuracy 94%\n",
      "Epoch 8/10, elapsed time: 136.97 milli second, test accuracy 95%\n",
      "Epoch 9/10, elapsed time: 153.38 milli second, test accuracy 93%\n",
      "Epoch 10/10, elapsed time: 171.00 milli second, test accuracy 94%\n",
      "Epoch 1/10, elapsed time: 18.00 milli second, test accuracy 91%\n",
      "Epoch 2/10, elapsed time: 34.61 milli second, test accuracy 93%\n",
      "Epoch 3/10, elapsed time: 52.20 milli second, test accuracy 94%\n",
      "Epoch 4/10, elapsed time: 68.89 milli second, test accuracy 93%\n",
      "Epoch 5/10, elapsed time: 86.03 milli second, test accuracy 94%\n",
      "Epoch 6/10, elapsed time: 103.02 milli second, test accuracy 93%\n",
      "Epoch 7/10, elapsed time: 120.03 milli second, test accuracy 94%\n",
      "Epoch 8/10, elapsed time: 137.61 milli second, test accuracy 95%\n",
      "Epoch 9/10, elapsed time: 154.88 milli second, test accuracy 95%\n",
      "Epoch 10/10, elapsed time: 171.88 milli second, test accuracy 95%\n",
      "Epoch 1/10, elapsed time: 17.48 milli second, test accuracy 91%\n",
      "Epoch 2/10, elapsed time: 36.28 milli second, test accuracy 93%\n",
      "Epoch 3/10, elapsed time: 53.44 milli second, test accuracy 94%\n",
      "Epoch 4/10, elapsed time: 70.38 milli second, test accuracy 94%\n",
      "Epoch 5/10, elapsed time: 87.44 milli second, test accuracy 91%\n",
      "Epoch 6/10, elapsed time: 104.59 milli second, test accuracy 95%\n",
      "Epoch 7/10, elapsed time: 120.94 milli second, test accuracy 94%\n",
      "Epoch 8/10, elapsed time: 138.06 milli second, test accuracy 95%\n",
      "Epoch 9/10, elapsed time: 155.12 milli second, test accuracy 95%\n",
      "Epoch 10/10, elapsed time: 171.53 milli second, test accuracy 94%\n",
      "Epoch 1/10, elapsed time: 17.89 milli second, test accuracy 89%\n",
      "Epoch 2/10, elapsed time: 34.66 milli second, test accuracy 93%\n",
      "Epoch 3/10, elapsed time: 52.16 milli second, test accuracy 93%\n",
      "Epoch 4/10, elapsed time: 69.34 milli second, test accuracy 93%\n",
      "Epoch 5/10, elapsed time: 86.77 milli second, test accuracy 94%\n",
      "Epoch 6/10, elapsed time: 104.11 milli second, test accuracy 93%\n",
      "Epoch 7/10, elapsed time: 120.83 milli second, test accuracy 93%\n",
      "Epoch 8/10, elapsed time: 138.59 milli second, test accuracy 94%\n",
      "Epoch 9/10, elapsed time: 156.12 milli second, test accuracy 94%\n",
      "Epoch 10/10, elapsed time: 173.17 milli second, test accuracy 94%\n",
      "\n",
      "\n",
      "\n",
      "Total elapsed experiment time: 28.726 seconds\n"
     ]
    }
   ],
   "execution_count": 16
  },
  {
   "metadata": {},
   "cell_type": "code",
   "outputs": [],
   "execution_count": null,
   "source": "",
   "id": "34d81b06a440c60e"
  }
 ],
 "metadata": {
  "kernelspec": {
   "display_name": "Python 3",
   "language": "python",
   "name": "python3"
  },
  "language_info": {
   "codemirror_mode": {
    "name": "ipython",
    "version": 2
   },
   "file_extension": ".py",
   "mimetype": "text/x-python",
   "name": "python",
   "nbconvert_exporter": "python",
   "pygments_lexer": "ipython2",
   "version": "2.7.6"
  }
 },
 "nbformat": 4,
 "nbformat_minor": 5
}
