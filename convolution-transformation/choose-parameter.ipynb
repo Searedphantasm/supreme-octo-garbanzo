{
 "cells": [
  {
   "cell_type": "code",
   "id": "initial_id",
   "metadata": {
    "collapsed": true,
    "ExecuteTime": {
     "end_time": "2024-09-06T05:31:45.976985Z",
     "start_time": "2024-09-06T05:31:43.571899Z"
    }
   },
   "source": [
    "import numpy as np\n",
    "import torch\n",
    "import torch.nn as nn"
   ],
   "outputs": [],
   "execution_count": 1
  },
  {
   "metadata": {},
   "cell_type": "markdown",
   "source": "### Convolve an image of size 1x256x256 to produce a 1x252x84",
   "id": "880a3289fb81d1dc"
  },
  {
   "metadata": {
    "ExecuteTime": {
     "end_time": "2024-09-06T05:31:46.078870Z",
     "start_time": "2024-09-06T05:31:45.985989Z"
    }
   },
   "cell_type": "code",
   "source": [
    "# parameters\n",
    "inChans  = 1 # RGB\n",
    "imsize   = [256,256]\n",
    "outChans = 1\n",
    "krnSize  = 7 # should be an odd number\n",
    "stride   = (1,3)\n",
    "padding  = 1\n",
    "\n",
    "# create the instance\n",
    "c = nn.Conv2d(inChans,outChans,krnSize,stride,padding)\n",
    "\n",
    "# create an image\n",
    "img = torch.rand(1,inChans,imsize[0],imsize[1])\n",
    "\n",
    "# run convolution and compute its shape\n",
    "resimg = c(img)\n",
    "empSize = torch.squeeze(resimg).shape\n",
    "\n",
    "# compute the size of the result according to the formula\n",
    "expectSize = np.array([outChans,0,0],dtype=int)\n",
    "expectSize[1] = np.floor( (imsize[0]+2*padding-krnSize)/stride[0] ) + 1\n",
    "expectSize[2] = np.floor( (imsize[1]+2*padding-krnSize)/stride[1] ) + 1\n",
    "\n",
    "# check the size of the output\n",
    "print(f'Expected size: {expectSize}')\n",
    "print(f'Empirical size: {list(empSize)}')"
   ],
   "id": "d6021fbe3b7291dd",
   "outputs": [
    {
     "name": "stdout",
     "output_type": "stream",
     "text": [
      "Expected size: [  1 252  84]\n",
      "Empirical size: [252, 84]\n"
     ]
    }
   ],
   "execution_count": 2
  },
  {
   "metadata": {},
   "cell_type": "markdown",
   "source": "## Convolve an image of size 3x64x64 to produce a 10x28x28",
   "id": "4518d50846afe3d9"
  },
  {
   "metadata": {
    "ExecuteTime": {
     "end_time": "2024-09-06T05:47:04.509922Z",
     "start_time": "2024-09-06T05:47:04.504535Z"
    }
   },
   "cell_type": "code",
   "source": [
    "# parameters\n",
    "inChans  = 3\n",
    "imsize   = [64,64]\n",
    "outChans = 10\n",
    "krnSize  = 9\n",
    "stride   = (2,2)\n",
    "padding  = 0\n",
    "\n",
    "# create the instance\n",
    "c = nn.Conv2d(inChans,outChans,krnSize,stride,padding)\n",
    "\n",
    "# create an image\n",
    "img = torch.rand(1,inChans,imsize[0],imsize[1])\n",
    "\n",
    "# run convolution and compute its shape\n",
    "resimg = c(img)\n",
    "empSize = torch.squeeze(resimg).shape\n",
    "\n",
    "# compute the size of the result according to the formula\n",
    "expectSize = np.array([outChans,0,0],dtype=int)\n",
    "expectSize[1] = np.floor( (imsize[0]+2*padding-krnSize)/stride[0] ) + 1\n",
    "expectSize[2] = np.floor( (imsize[1]+2*padding-krnSize)/stride[1] ) + 1\n",
    "\n",
    "# check the size of the output\n",
    "print(f'Expected size: {expectSize}')\n",
    "print(f'Empirical size: {list(empSize)}')"
   ],
   "id": "5d4f97c68c36f858",
   "outputs": [
    {
     "name": "stdout",
     "output_type": "stream",
     "text": [
      "Expected size: [10 28 28]\n",
      "Empirical size: [10, 28, 28]\n"
     ]
    }
   ],
   "execution_count": 5
  },
  {
   "metadata": {},
   "cell_type": "markdown",
   "source": "## Convolve an image of size 3x196x196 to produce a 5x66x49",
   "id": "968b852d82955e8c"
  },
  {
   "metadata": {},
   "cell_type": "markdown",
   "source": "### 3) Convolve an image of size 1x32x32 to produce a 6x28x28 result",
   "id": "276af2168f7917d8"
  },
  {
   "metadata": {},
   "cell_type": "markdown",
   "source": "### 4) Convolve an image of size 3x227x227 to produce a 96x55x55 result",
   "id": "f6f82803ddaead06"
  },
  {
   "metadata": {},
   "cell_type": "markdown",
   "source": "### 5) Convolve an image of size 3x224x224 to produce a 64x224x224 result",
   "id": "1041cfb96cde3a0f"
  },
  {
   "metadata": {},
   "cell_type": "code",
   "outputs": [],
   "execution_count": null,
   "source": "",
   "id": "58922edf0fcaf101"
  }
 ],
 "metadata": {
  "kernelspec": {
   "display_name": "Python 3",
   "language": "python",
   "name": "python3"
  },
  "language_info": {
   "codemirror_mode": {
    "name": "ipython",
    "version": 2
   },
   "file_extension": ".py",
   "mimetype": "text/x-python",
   "name": "python",
   "nbconvert_exporter": "python",
   "pygments_lexer": "ipython2",
   "version": "2.7.6"
  }
 },
 "nbformat": 4,
 "nbformat_minor": 5
}
