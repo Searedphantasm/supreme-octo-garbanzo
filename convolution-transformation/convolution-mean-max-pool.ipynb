{
 "cells": [
  {
   "cell_type": "code",
   "id": "initial_id",
   "metadata": {
    "collapsed": true,
    "ExecuteTime": {
     "end_time": "2024-09-07T07:06:10.638933Z",
     "start_time": "2024-09-07T07:06:08.118799Z"
    }
   },
   "source": [
    "import torch\n",
    "import torch.nn as nn"
   ],
   "outputs": [],
   "execution_count": 1
  },
  {
   "metadata": {},
   "cell_type": "markdown",
   "source": "## Create a maxpool instance",
   "id": "df0c082a39e97155"
  },
  {
   "metadata": {
    "ExecuteTime": {
     "end_time": "2024-09-07T07:09:30.265280Z",
     "start_time": "2024-09-07T07:09:30.261604Z"
    }
   },
   "cell_type": "code",
   "source": [
    "# parameters\n",
    "poolSize = 3\n",
    "stride = 3\n",
    "\n",
    "# create the instance\n",
    "p2 = nn.MaxPool2d(poolSize, stride=3)\n",
    "p3 = nn.MaxPool3d(poolSize, stride=3)\n",
    "\n",
    "# let's have a look at them\n",
    "print(p2)\n",
    "print(p3)"
   ],
   "id": "729f97684e29d0cc",
   "outputs": [
    {
     "name": "stdout",
     "output_type": "stream",
     "text": [
      "MaxPool2d(kernel_size=3, stride=3, padding=0, dilation=1, ceil_mode=False)\n",
      "MaxPool3d(kernel_size=3, stride=3, padding=0, dilation=1, ceil_mode=False)\n"
     ]
    }
   ],
   "execution_count": 2
  },
  {
   "metadata": {
    "ExecuteTime": {
     "end_time": "2024-09-07T07:45:57.297415Z",
     "start_time": "2024-09-07T07:45:57.292025Z"
    }
   },
   "cell_type": "code",
   "source": [
    "# create a 2D and 3D image\n",
    "img2 = torch.randn(1,1,30,30)\n",
    "img3 = torch.randn(1,3,30,30)\n",
    "\n",
    "# all combination of image and maxpool dimensionalty\n",
    "img2Pool2 = p2(img2)\n",
    "print(f\"2D image, 2D maxpool: {img2Pool2.shape}\\n\")\n",
    "\n",
    "# img2Pool3 = p3(img2)\n",
    "# print(f\"2D image, 3D maxpool: {img2Pool3.shape}\\n\")\n",
    "\n",
    "img3pool2 = p2(img3)\n",
    "print(f\"3D image, 2D maxpool: {img3pool2.shape}\\n\")\n",
    "\n",
    "img3Pool3 = p3(img3)\n",
    "print(f\"3D image, 3D maxpool: {img3Pool3.shape}\\n\")"
   ],
   "id": "b1428f1d4785bf73",
   "outputs": [
    {
     "name": "stdout",
     "output_type": "stream",
     "text": [
      "2D image, 2D maxpool: torch.Size([1, 1, 10, 10])\n",
      "\n",
      "3D image, 2D maxpool: torch.Size([1, 3, 10, 10])\n",
      "\n",
      "3D image, 3D maxpool: torch.Size([1, 1, 10, 10])\n",
      "\n"
     ]
    }
   ],
   "execution_count": 5
  },
  {
   "metadata": {},
   "cell_type": "markdown",
   "source": "## Create a Simple CNN",
   "id": "6f0e2bbc26bccc46"
  },
  {
   "metadata": {
    "ExecuteTime": {
     "end_time": "2024-09-07T07:50:24.746230Z",
     "start_time": "2024-09-07T07:50:24.739535Z"
    }
   },
   "cell_type": "code",
   "source": [
    "little_net = nn.Sequential(\n",
    "    ## the conv-pool block\n",
    "    nn.Conv2d(3,10,5,3,2), #input-Channels,out_put channels , kernel_size , stride , padding\n",
    "    nn.ReLU(),\n",
    "    nn.AvgPool3d(3,3), # kernel-size,stride\n",
    "    \n",
    "    ## the FFN block\n",
    "    nn.Flatten(),  # vectorize to get from image to linear\n",
    "    nn.Linear(588,1), \n",
    "    nn.Sigmoid()\n",
    ")"
   ],
   "id": "4e23dd59d1e59b92",
   "outputs": [],
   "execution_count": 6
  },
  {
   "metadata": {
    "ExecuteTime": {
     "end_time": "2024-09-07T07:52:41.032572Z",
     "start_time": "2024-09-07T07:52:41.001649Z"
    }
   },
   "cell_type": "code",
   "source": [
    "# testing with a bit of data\n",
    "\n",
    "img = torch.randn(1,3,128,128)\n",
    "little_net(img)"
   ],
   "id": "d365b8bd049748bd",
   "outputs": [
    {
     "data": {
      "text/plain": [
       "tensor([[0.4398]], grad_fn=<SigmoidBackward0>)"
      ]
     },
     "execution_count": 7,
     "metadata": {},
     "output_type": "execute_result"
    }
   ],
   "execution_count": 7
  },
  {
   "metadata": {},
   "cell_type": "code",
   "outputs": [],
   "execution_count": null,
   "source": "",
   "id": "855d4a70fe007466"
  }
 ],
 "metadata": {
  "kernelspec": {
   "display_name": "Python 3",
   "language": "python",
   "name": "python3"
  },
  "language_info": {
   "codemirror_mode": {
    "name": "ipython",
    "version": 2
   },
   "file_extension": ".py",
   "mimetype": "text/x-python",
   "name": "python",
   "nbconvert_exporter": "python",
   "pygments_lexer": "ipython2",
   "version": "2.7.6"
  }
 },
 "nbformat": 4,
 "nbformat_minor": 5
}
