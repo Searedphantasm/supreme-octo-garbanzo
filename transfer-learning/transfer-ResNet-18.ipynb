{
 "cells": [
  {
   "cell_type": "code",
   "execution_count": null,
   "id": "initial_id",
   "metadata": {
    "collapsed": true
   },
   "outputs": [],
   "source": [
    "# import libraries\n",
    "import numpy as np\n",
    "\n",
    "import torch\n",
    "import torch.nn as nn\n",
    "import torch.nn.functional as F\n",
    "\n",
    "# for importing data\n",
    "import torchvision\n",
    "import torchvision.transforms as T\n",
    "from torch.utils.data import DataLoader,Subset\n",
    "\n",
    "import matplotlib.pyplot as plt\n",
    "from IPython import display\n",
    "display.set_matplotlib_formats('svg')"
   ]
  },
  {
   "metadata": {},
   "cell_type": "code",
   "outputs": [],
   "execution_count": null,
   "source": [
    "# use GPU if available\n",
    "device = torch.device('cuda' if torch.cuda.is_available() else 'cpu')"
   ],
   "id": "d68e35660bcd02d0"
  },
  {
   "metadata": {},
   "cell_type": "markdown",
   "source": "# Import dataset",
   "id": "c23e2fe01da3625e"
  },
  {
   "metadata": {},
   "cell_type": "code",
   "outputs": [],
   "execution_count": null,
   "source": [
    "### Note: resnet is trained for images in a specific range (NOT [-1,1]).\n",
    "#         That changes the mean/std normalization values in the transform.\n",
    "\n",
    "# transformations\n",
    "transform = T.Compose([ T.ToTensor(), # normalizes to range [0,1]\n",
    "                        T.Normalize(mean=[0.485, 0.456, 0.406],std=[0.229, 0.224, 0.225]) # further normalization\n",
    "                       ])\n",
    "\n",
    "# import the data and simultaneously apply the transform\n",
    "trainset = torchvision.datasets.STL10(root='./data', download=True, split='train', transform=transform)\n",
    "testset  = torchvision.datasets.STL10(root='./data', download=True, split='test',  transform=transform)\n",
    "\n",
    "# transform to dataloaders\n",
    "batchsize    = 32\n",
    "train_loader = DataLoader(trainset,batch_size=batchsize,shuffle=True,drop_last=True)\n",
    "test_loader  = DataLoader(testset, batch_size=256)"
   ],
   "id": "ac3f39805877fd85"
  },
  {
   "metadata": {},
   "cell_type": "code",
   "outputs": [],
   "execution_count": null,
   "source": [
    "# check out the shape of the datasets\n",
    "print('Data shapes (train/test):')\n",
    "print( trainset.data.shape )\n",
    "print( testset.data.shape )\n",
    "\n",
    "# and the range of pixel intensity values\n",
    "print('\\nData value range:')\n",
    "print( (np.min(trainset.data),np.max(trainset.data)) )\n",
    "\n",
    "# the unique categories\n",
    "print('\\nData categories:')\n",
    "print( trainset.classes )"
   ],
   "id": "e794ad5201ff82cb"
  },
  {
   "metadata": {},
   "cell_type": "code",
   "outputs": [],
   "execution_count": null,
   "source": [
    "# Uh oh! It looks like the images are the wrong dimensions!\n",
    "# They need to be 3x96x96\n",
    "# And they are not normalized!\n",
    "\n",
    "# but...\n",
    "X,y = next(iter(train_loader))\n",
    "\n",
    "# try again\n",
    "print('Data shapes (train/test):')\n",
    "print( X.data.shape )\n",
    "\n",
    "# and the range of pixel intensity values\n",
    "print('\\nData value range:')\n",
    "print( (torch.min(X.data),torch.max(X.data)) )"
   ],
   "id": "f380ec5b7c92854"
  },
  {
   "metadata": {},
   "cell_type": "code",
   "outputs": [],
   "execution_count": null,
   "source": [
    "# histogram of the data\n",
    "plt.hist(X.data.numpy().flatten(),100);"
   ],
   "id": "dc599f6c5ff1116d"
  },
  {
   "metadata": {},
   "cell_type": "code",
   "outputs": [],
   "execution_count": null,
   "source": [
    "# inspect a few random images\n",
    "\n",
    "fig,axs = plt.subplots(4,4,figsize=(10,10))\n",
    "\n",
    "for (i,ax) in enumerate(axs.flatten()):\n",
    "\n",
    "  # extract that image (need to transpose it back to 32x32x3)\n",
    "  pic = X.data[i].numpy().transpose((1,2,0))\n",
    "  pic = pic-np.min(pic) # undo normalization\n",
    "  pic = pic/np.max(pic)\n",
    "  \n",
    "  # and its label\n",
    "  label = trainset.classes[y[i]]\n",
    "\n",
    "  # and show!\n",
    "  ax.imshow(pic)\n",
    "  ax.text(0,0,label,ha='left',va='top',fontweight='bold',color='k',backgroundcolor='y')\n",
    "  ax.axis('off')\n",
    "\n",
    "plt.tight_layout()\n",
    "plt.show()"
   ],
   "id": "413402747b97b9b7"
  },
  {
   "metadata": {},
   "cell_type": "markdown",
   "source": "# Import and inspect the resnet model",
   "id": "3efa1dd1661fd366"
  },
  {
   "metadata": {},
   "cell_type": "code",
   "outputs": [],
   "execution_count": null,
   "source": "resnet = torchvision.models.resnet18(pretrained=True)",
   "id": "6d3d970abfca36c9"
  },
  {
   "metadata": {},
   "cell_type": "code",
   "outputs": [],
   "execution_count": null,
   "source": [
    "# let's inspect this network\n",
    "resnet"
   ],
   "id": "a31edfa9a6ab8e28"
  },
  {
   "metadata": {},
   "cell_type": "code",
   "outputs": [],
   "execution_count": null,
   "source": [
    "# Freeze all layers (final layer changed later)\n",
    "for p in resnet.parameters():\n",
    "    p.requires_grad = False\n",
    "\n",
    "    # python note: the above operation can be implemented in-line:\n",
    "    #p.requires_grad_(False)"
   ],
   "id": "10bf94937bdeeb5c"
  },
  {
   "metadata": {},
   "cell_type": "code",
   "outputs": [],
   "execution_count": null,
   "source": [
    "# change the final layer\n",
    "resnet.fc = nn.Linear(512,10)"
   ],
   "id": "8df2ba3fee42a5eb"
  },
  {
   "metadata": {},
   "cell_type": "code",
   "outputs": [],
   "execution_count": null,
   "source": [
    "# push the model to the GPU (if using)\n",
    "resnet.to(device);"
   ],
   "id": "6a7e65fc2370fba2"
  },
  {
   "metadata": {},
   "cell_type": "markdown",
   "source": "# Train the model",
   "id": "d54eb37af49a86a6"
  },
  {
   "metadata": {},
   "cell_type": "code",
   "outputs": [],
   "execution_count": null,
   "source": [
    "lossfun = nn.CrossEntropyLoss()\n",
    "optimizer = torch.optim.SGD(resnet.parameters(),lr=0.001,momentum=.9)"
   ],
   "id": "dbcb76b67fa441ff"
  },
  {
   "metadata": {},
   "cell_type": "code",
   "outputs": [],
   "execution_count": null,
   "source": [
    "numepochs = 10\n",
    "\n",
    "# initialize losses\n",
    "trainLoss = torch.zeros(numepochs)\n",
    "testLoss  = torch.zeros(numepochs)\n",
    "trainAcc  = torch.zeros(numepochs)\n",
    "testAcc   = torch.zeros(numepochs)\n",
    "\n",
    "# loop over epochs\n",
    "for epochi in range(numepochs):\n",
    "\n",
    "  # loop over training data batches\n",
    "  resnet.train() # switch to train mode\n",
    "  batchLoss = []\n",
    "  batchAcc  = []\n",
    "  for X,y in train_loader:\n",
    "\n",
    "    # push data to GPU\n",
    "    X = X.to(device)\n",
    "    y = y.to(device)\n",
    "\n",
    "    # forward pass and loss\n",
    "    yHat = resnet(X)\n",
    "    loss = lossfun(yHat,y)\n",
    "\n",
    "    # backprop\n",
    "    optimizer.zero_grad()\n",
    "    loss.backward()\n",
    "    optimizer.step()\n",
    "\n",
    "    # loss and accuracy from this batch\n",
    "    batchLoss.append(loss.item())\n",
    "    batchAcc.append( torch.mean((torch.argmax(yHat,axis=1) == y).float()).item() )\n",
    "  # end of batch loop...\n",
    "\n",
    "  # and get average losses and accuracies across the batches\n",
    "  trainLoss[epochi] = np.mean(batchLoss)\n",
    "  trainAcc[epochi]  = 100*np.mean(batchAcc)\n",
    "\n",
    "\n",
    "  #### test performance (here done in batches!)\n",
    "  resnet.eval() # switch to test mode\n",
    "  batchAcc  = []\n",
    "  batchLoss = []\n",
    "  for X,y in test_loader:\n",
    "\n",
    "    # push data to GPU\n",
    "    X = X.to(device)\n",
    "    y = y.to(device)\n",
    "\n",
    "    # forward pass and loss\n",
    "    with torch.no_grad():\n",
    "      yHat = resnet(X)\n",
    "      loss = lossfun(yHat,y)\n",
    "    \n",
    "    # loss and accuracy from this batch\n",
    "    batchLoss.append(loss.item())\n",
    "    batchAcc.append( torch.mean((torch.argmax(yHat,axis=1) == y).float()).item() )\n",
    "  # end of batch loop...\n",
    "\n",
    "  # and get average losses and accuracies across the batches\n",
    "  testLoss[epochi] = np.mean(batchLoss)\n",
    "  testAcc[epochi]  = 100*np.mean(batchAcc)\n",
    "\n",
    "  # print out a status update\n",
    "  print(f'Finished epoch {epochi+1}/{numepochs}. Test accuracy = {testAcc[epochi]:.2f}%')\n"
   ],
   "id": "3a92dfd1ab29954d"
  },
  {
   "metadata": {},
   "cell_type": "markdown",
   "source": "# Visualize the performance",
   "id": "e81af35f8422370"
  },
  {
   "metadata": {},
   "cell_type": "code",
   "outputs": [],
   "execution_count": null,
   "source": [
    "fig,ax = plt.subplots(1,2,figsize=(16,5))\n",
    "\n",
    "ax[0].plot(trainLoss,'s-',label='Train')\n",
    "ax[0].plot(testLoss,'o-',label='Test')\n",
    "ax[0].set_xlabel('Epochs')\n",
    "ax[0].set_ylabel('Loss (MSE)')\n",
    "ax[0].set_title('Model loss')\n",
    "ax[0].legend()\n",
    "\n",
    "ax[1].plot(trainAcc,'s-',label='Train')\n",
    "ax[1].plot(testAcc,'o-',label='Test')\n",
    "ax[1].set_xlabel('Epochs')\n",
    "ax[1].set_ylabel('Accuracy (%)')\n",
    "ax[1].set_title(f'Final model train/test accuracy: {trainAcc[-1]:.2f}/{testAcc[-1]:.2f}%')\n",
    "ax[1].legend()\n",
    "\n",
    "plt.suptitle('Pretrained ResNet-18 on STL10 data',fontweight='bold',fontsize=14)\n",
    "plt.show()"
   ],
   "id": "7e3f5f10ffb4f404"
  },
  {
   "metadata": {},
   "cell_type": "code",
   "outputs": [],
   "execution_count": null,
   "source": [
    "# inspect a few random images\n",
    "\n",
    "X,y = next(iter(test_loader))\n",
    "X = X.to(device)\n",
    "y = y.to(device)\n",
    "resnet.eval()\n",
    "predictions = torch.argmax( resnet(X) ,axis=1)\n",
    "\n",
    "\n",
    "fig,axs = plt.subplots(4,4,figsize=(10,10))\n",
    "\n",
    "for (i,ax) in enumerate(axs.flatten()):\n",
    "\n",
    "  # extract that image (need to transpose it back to 96x96x3)\n",
    "  pic = X.data[i].cpu().numpy().transpose((1,2,0))\n",
    "  pic = pic-np.min(pic) # undo normalization\n",
    "  pic = pic/np.max(pic)\n",
    "  \n",
    "  # show the image\n",
    "  ax.imshow(pic)\n",
    "  \n",
    "  \n",
    "  # label and true class\n",
    "  label = trainset.classes[predictions[i]]\n",
    "  truec = trainset.classes[y[i]]\n",
    "  title = f'Pred: {label}  -  true: {truec}'\n",
    "\n",
    "  # set the title with color-coded accuracy\n",
    "  titlecolor = 'g' if truec==label else 'r'\n",
    "  ax.text(48,90,title,ha='center',va='top',fontweight='bold',color='k',backgroundcolor=titlecolor,fontsize=8)\n",
    "  ax.axis('off')\n",
    "\n",
    "plt.tight_layout()\n",
    "plt.show()"
   ],
   "id": "bbea784dea301a9"
  }
 ],
 "metadata": {
  "kernelspec": {
   "display_name": "Python 3",
   "language": "python",
   "name": "python3"
  },
  "language_info": {
   "codemirror_mode": {
    "name": "ipython",
    "version": 2
   },
   "file_extension": ".py",
   "mimetype": "text/x-python",
   "name": "python",
   "nbconvert_exporter": "python",
   "pygments_lexer": "ipython2",
   "version": "2.7.6"
  }
 },
 "nbformat": 4,
 "nbformat_minor": 5
}
