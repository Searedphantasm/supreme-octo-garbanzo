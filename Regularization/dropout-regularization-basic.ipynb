{
 "cells": [
  {
   "cell_type": "code",
   "id": "initial_id",
   "metadata": {
    "collapsed": true,
    "ExecuteTime": {
     "end_time": "2024-08-19T07:00:17.186287Z",
     "start_time": "2024-08-19T07:00:17.183795Z"
    }
   },
   "source": [
    "import numpy as np\n",
    "import torch\n",
    "import torch.nn as nn\n",
    "import torch.nn.functional as F"
   ],
   "outputs": [],
   "execution_count": 13
  },
  {
   "metadata": {},
   "cell_type": "markdown",
   "source": "## Using dropout",
   "id": "9f38403bb1e17aa6"
  },
  {
   "metadata": {
    "ExecuteTime": {
     "end_time": "2024-08-19T07:00:17.207904Z",
     "start_time": "2024-08-19T07:00:17.204289Z"
    }
   },
   "cell_type": "code",
   "source": [
    "# defining dropout instance\n",
    "prob = .5\n",
    "\n",
    "dropout = nn.Dropout(p=prob)\n",
    "x = torch.ones(10)\n",
    "\n",
    "y = dropout(x)\n",
    "print(x)\n",
    "print(y)\n",
    "print(torch.mean(y))"
   ],
   "id": "a49234b86b2a4e01",
   "outputs": [
    {
     "name": "stdout",
     "output_type": "stream",
     "text": [
      "tensor([1., 1., 1., 1., 1., 1., 1., 1., 1., 1.])\n",
      "tensor([2., 2., 2., 0., 2., 2., 2., 2., 0., 2.])\n",
      "tensor(1.6000)\n"
     ]
    }
   ],
   "execution_count": 14
  },
  {
   "metadata": {
    "ExecuteTime": {
     "end_time": "2024-08-19T07:00:17.225643Z",
     "start_time": "2024-08-19T07:00:17.222214Z"
    }
   },
   "cell_type": "code",
   "source": [
    "dropout.eval()\n",
    "y = dropout(x)\n",
    "print(y)\n",
    "print(torch.mean(y))"
   ],
   "id": "69a51953392b088c",
   "outputs": [
    {
     "name": "stdout",
     "output_type": "stream",
     "text": [
      "tensor([1., 1., 1., 1., 1., 1., 1., 1., 1., 1.])\n",
      "tensor(1.)\n"
     ]
    }
   ],
   "execution_count": 15
  },
  {
   "metadata": {
    "ExecuteTime": {
     "end_time": "2024-08-19T07:00:17.309200Z",
     "start_time": "2024-08-19T07:00:17.305558Z"
    }
   },
   "cell_type": "code",
   "source": [
    "# Note: F.dropout() is not deactivated in eval mode: you should manually switch it off\n",
    "# dropout.eval() does not work does'nt work\n",
    "y = F.dropout(x, training=False)\n",
    "\n",
    "print(y)\n",
    "print(torch.mean(y))"
   ],
   "id": "4058269eae08f4b3",
   "outputs": [
    {
     "name": "stdout",
     "output_type": "stream",
     "text": [
      "tensor([1., 1., 1., 1., 1., 1., 1., 1., 1., 1.])\n",
      "tensor(1.)\n"
     ]
    }
   ],
   "execution_count": 16
  },
  {
   "metadata": {
    "ExecuteTime": {
     "end_time": "2024-08-19T07:00:17.403901Z",
     "start_time": "2024-08-19T07:00:17.399929Z"
    }
   },
   "cell_type": "code",
   "source": [
    "dropout.eval()\n",
    "y = dropout(x)\n",
    "print(y)\n",
    "\n",
    "dropout.train()\n",
    "y = dropout(x)\n",
    "print(y)"
   ],
   "id": "e1fa40f0cef3f03d",
   "outputs": [
    {
     "name": "stdout",
     "output_type": "stream",
     "text": [
      "tensor([1., 1., 1., 1., 1., 1., 1., 1., 1., 1.])\n",
      "tensor([2., 2., 2., 2., 0., 2., 0., 2., 0., 0.])\n"
     ]
    }
   ],
   "execution_count": 17
  }
 ],
 "metadata": {
  "kernelspec": {
   "display_name": "Python 3",
   "language": "python",
   "name": "python3"
  },
  "language_info": {
   "codemirror_mode": {
    "name": "ipython",
    "version": 2
   },
   "file_extension": ".py",
   "mimetype": "text/x-python",
   "name": "python",
   "nbconvert_exporter": "python",
   "pygments_lexer": "ipython2",
   "version": "2.7.6"
  }
 },
 "nbformat": 4,
 "nbformat_minor": 5
}
