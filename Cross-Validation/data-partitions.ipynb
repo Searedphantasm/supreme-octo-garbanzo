{
 "cells": [
  {
   "cell_type": "code",
   "id": "initial_id",
   "metadata": {
    "collapsed": true,
    "ExecuteTime": {
     "end_time": "2024-08-19T04:30:20.152066Z",
     "start_time": "2024-08-19T04:30:20.015813Z"
    }
   },
   "source": [
    "import numpy as np\n",
    "from sklearn.model_selection import train_test_split"
   ],
   "outputs": [],
   "execution_count": 1
  },
  {
   "metadata": {
    "ExecuteTime": {
     "end_time": "2024-08-19T04:30:20.163057Z",
     "start_time": "2024-08-19T04:30:20.159096Z"
    }
   },
   "cell_type": "code",
   "source": [
    "fakeData = np.tile(np.array([1,2,3,4]),(10,1)) + np.tile(10*np.arange(1,11),(4,1)).T\n",
    "fakeLabels = np.arange(10) > 4"
   ],
   "id": "3bf31c3d1eeea1a7",
   "outputs": [],
   "execution_count": 2
  },
  {
   "metadata": {},
   "cell_type": "markdown",
   "source": "### Using train_test-split",
   "id": "d0ded447e005b701"
  },
  {
   "metadata": {
    "ExecuteTime": {
     "end_time": "2024-08-19T04:40:24.456139Z",
     "start_time": "2024-08-19T04:40:24.452255Z"
    }
   },
   "cell_type": "code",
   "source": [
    "# orderis train,devset,test\n",
    "partions = [.8,.1,.1]\n",
    "\n",
    "train_data,testTMP_data,train_labels,testTMP_labels = train_test_split(fakeData,fakeLabels,train_size=partions[0])\n",
    "# np.sum(partions[1:]) => total number of samples in testTMP_data\n",
    "split = partions[1] / np.sum(partions[1:])\n",
    "devset_data,test_data,devset_label,test_labels = train_test_split(testTMP_data,testTMP_labels,train_size=split)\n",
    "\n",
    "print(f\"Devset data size: {devset_data.shape}\")\n",
    "print(f\"Training data size: {train_data.shape}\")\n",
    "print(f\"Test data size: {test_data.shape}\")"
   ],
   "id": "cdd0cc0df790ef78",
   "outputs": [
    {
     "name": "stdout",
     "output_type": "stream",
     "text": [
      "Devset data size: (1, 4)\n",
      "Training data size: (8, 4)\n",
      "Test data size: (1, 4)\n"
     ]
    }
   ],
   "execution_count": 4
  },
  {
   "metadata": {},
   "cell_type": "markdown",
   "source": "### Splitting data manually using numpy",
   "id": "ec95f96d2d420337"
  },
  {
   "metadata": {
    "ExecuteTime": {
     "end_time": "2024-08-19T04:43:47.483762Z",
     "start_time": "2024-08-19T04:43:47.481100Z"
    }
   },
   "cell_type": "code",
   "source": [
    "\n",
    "partions = np.array([.8,.1,.1])\n",
    "\n",
    "# converting percentes to partition bounderies\n",
    "partitionBnd = np.cumsum(partions*len(fakeLabels)).astype(int)\n",
    "\n",
    "randIndices = np.random.permutation(range(len(fakeLabels)))"
   ],
   "id": "942405bfaa363e76",
   "outputs": [],
   "execution_count": 5
  },
  {
   "metadata": {
    "ExecuteTime": {
     "end_time": "2024-08-19T04:52:30.473497Z",
     "start_time": "2024-08-19T04:52:30.470273Z"
    }
   },
   "cell_type": "code",
   "source": [
    "train_dataN = fakeData[randIndices[:partitionBnd[0]],:]\n",
    "train_labelsN = fakeLabels[randIndices[:partitionBnd[0]]]\n",
    "\n",
    "devset_dataN = fakeData[randIndices[partitionBnd[0]:partitionBnd[1]],:]\n",
    "devset_labelsN = fakeLabels[randIndices[partitionBnd[0]:partitionBnd[1]]]\n",
    "\n",
    "test_dataN = fakeData[randIndices[partitionBnd[1]:],:]\n",
    "test_labelsN = fakeLabels[randIndices[partitionBnd[1]:]]"
   ],
   "id": "993b9b15ec80b34f",
   "outputs": [],
   "execution_count": 6
  },
  {
   "metadata": {},
   "cell_type": "code",
   "outputs": [],
   "execution_count": null,
   "source": "",
   "id": "3e5aacd6888a7cf0"
  }
 ],
 "metadata": {
  "kernelspec": {
   "display_name": "Python 3",
   "language": "python",
   "name": "python3"
  },
  "language_info": {
   "codemirror_mode": {
    "name": "ipython",
    "version": 2
   },
   "file_extension": ".py",
   "mimetype": "text/x-python",
   "name": "python",
   "nbconvert_exporter": "python",
   "pygments_lexer": "ipython2",
   "version": "2.7.6"
  }
 },
 "nbformat": 4,
 "nbformat_minor": 5
}
