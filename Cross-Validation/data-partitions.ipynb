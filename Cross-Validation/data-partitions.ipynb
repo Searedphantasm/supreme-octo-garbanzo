{
 "cells": [
  {
   "cell_type": "code",
   "id": "initial_id",
   "metadata": {
    "collapsed": true,
    "ExecuteTime": {
     "end_time": "2024-08-19T04:30:20.152066Z",
     "start_time": "2024-08-19T04:30:20.015813Z"
    }
   },
   "source": [
    "import numpy as np\n",
    "from sklearn.model_selection import train_test_split"
   ],
   "outputs": [],
   "execution_count": 1
  },
  {
   "metadata": {
    "ExecuteTime": {
     "end_time": "2024-08-19T04:30:20.163057Z",
     "start_time": "2024-08-19T04:30:20.159096Z"
    }
   },
   "cell_type": "code",
   "source": [
    "fakeData = np.tile(np.array([1,2,3,4]),(10,1)) + np.tile(10*np.arange(1,11),(4,1)).T\n",
    "fakeLabels = np.arange(10) > 4"
   ],
   "id": "3bf31c3d1eeea1a7",
   "outputs": [],
   "execution_count": 2
  },
  {
   "metadata": {},
   "cell_type": "markdown",
   "source": "### Using train_test-split",
   "id": "d0ded447e005b701"
  },
  {
   "metadata": {},
   "cell_type": "code",
   "outputs": [],
   "execution_count": null,
   "source": [
    "# orderis train,devset,test\n",
    "partions = [.8,.1,.1]\n",
    "\n",
    "train_data,testTMP_data,train_labels,testTMP_labels = train_test_split(fakeData,fakeLabels,train_size=partions[0])\n",
    "\n",
    "split = partions[1] / np.sum(partions[1:])\n",
    "devset_data,test_data,dev"
   ],
   "id": "cdd0cc0df790ef78"
  }
 ],
 "metadata": {
  "kernelspec": {
   "display_name": "Python 3",
   "language": "python",
   "name": "python3"
  },
  "language_info": {
   "codemirror_mode": {
    "name": "ipython",
    "version": 2
   },
   "file_extension": ".py",
   "mimetype": "text/x-python",
   "name": "python",
   "nbconvert_exporter": "python",
   "pygments_lexer": "ipython2",
   "version": "2.7.6"
  }
 },
 "nbformat": 4,
 "nbformat_minor": 5
}
